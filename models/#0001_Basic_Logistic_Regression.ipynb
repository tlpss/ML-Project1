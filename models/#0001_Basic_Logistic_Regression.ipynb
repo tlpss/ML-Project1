{
 "cells": [
  {
   "cell_type": "code",
   "execution_count": 1,
   "metadata": {
    "ExecuteTime": {
     "end_time": "2020-10-21T16:04:19.758837Z",
     "start_time": "2020-10-21T16:04:19.448632Z"
    }
   },
   "outputs": [],
   "source": [
    "import numpy as np\n",
    "import matplotlib.pyplot as plt\n",
    "\n",
    "# add project root folder to path to allow import local modules\n",
    "import os\n",
    "import sys\n",
    "module_path = os.path.abspath(os.path.join('..'))\n",
    "if module_path not in sys.path:\n",
    "    sys.path.append(module_path)\n",
    "# import local modules\n",
    "from helpers import *\n",
    "from implementations import *\n",
    "from preprocessing import *"
   ]
  },
  {
   "cell_type": "code",
   "execution_count": 2,
   "metadata": {
    "ExecuteTime": {
     "end_time": "2020-10-21T16:04:23.998547Z",
     "start_time": "2020-10-21T16:04:23.994558Z"
    }
   },
   "outputs": [],
   "source": [
    "Seed = 42\n",
    "np.random.seed(42)"
   ]
  },
  {
   "cell_type": "markdown",
   "metadata": {},
   "source": [
    "## Load the Data"
   ]
  },
  {
   "cell_type": "code",
   "execution_count": 3,
   "metadata": {
    "ExecuteTime": {
     "end_time": "2020-10-21T16:04:36.797787Z",
     "start_time": "2020-10-21T16:04:24.667790Z"
    }
   },
   "outputs": [],
   "source": [
    "p = Preprocessing(load_csv('../dataset/trainset.csv'))\n",
    "y_train , x_train= p.preprocess()\n",
    "p = Preprocessing(load_csv('../dataset/testset.csv'))\n",
    "y_test, x_test = p.preprocess()"
   ]
  },
  {
   "cell_type": "code",
   "execution_count": 4,
   "metadata": {
    "ExecuteTime": {
     "end_time": "2020-10-21T16:04:36.803643Z",
     "start_time": "2020-10-21T16:04:36.798605Z"
    }
   },
   "outputs": [
    {
     "name": "stdout",
     "output_type": "stream",
     "text": [
      "(225000, 31)\n",
      "(25000, 31)\n"
     ]
    }
   ],
   "source": [
    "print(x_train.shape)\n",
    "print(x_test.shape)\n"
   ]
  },
  {
   "cell_type": "markdown",
   "metadata": {},
   "source": [
    "## Logistic predictions from weights"
   ]
  },
  {
   "cell_type": "code",
   "execution_count": 5,
   "metadata": {
    "ExecuteTime": {
     "end_time": "2020-10-21T16:04:36.812569Z",
     "start_time": "2020-10-21T16:04:36.804590Z"
    }
   },
   "outputs": [],
   "source": [
    "def predict(weight, x_test,boundary =0.5):\n",
    "    \"\"\"\n",
    "    # Gives predictions given weight and datapoints \n",
    "    \n",
    "    :param weight: vector weight\n",
    "    :type weight: 1D array\n",
    "    \n",
    "    :param x_test: extended feature matrix\n",
    "    :type x_test: 2D array\n",
    "    \n",
    "    :return: label predictions (0 or 1)\n",
    "    :rtype:  1D numpy array\n",
    "    \n",
    "    \"\"\"\n",
    "    \n",
    "    pred = sigmoid(x_test.dot(weight))\n",
    "    \n",
    "    f = lambda x : 0 if x <boundary else 1\n",
    "    \n",
    "    predictions = np.array([ f(x) for x in pred])\n",
    "    \n",
    "    return predictions"
   ]
  },
  {
   "cell_type": "markdown",
   "metadata": {},
   "source": [
    "## Cross Validation, Calculation of the Accuracy "
   ]
  },
  {
   "cell_type": "code",
   "execution_count": 6,
   "metadata": {
    "ExecuteTime": {
     "end_time": "2020-10-21T16:04:36.824536Z",
     "start_time": "2020-10-21T16:04:36.814564Z"
    }
   },
   "outputs": [],
   "source": [
    "def K_Cross_Validation(xt_training, y_training, K, initial_w, max_iters, _lambda, gamma, batch_size):\n",
    "    \"\"\"\n",
    "    #K_Cross_Validation training technique\n",
    "    \n",
    "    :param xt_training: extended feature matrix \n",
    "    :type xt: numpy 2D array\n",
    "    \n",
    "    :param y_training: labels\n",
    "    :type y_training: 1D array\n",
    "    \n",
    "    :param K: number of folds\n",
    "    :type K: int\n",
    "    \n",
    "    :param initial_w: initial value of weights\n",
    "    :type initial_w: numpy 1D array\n",
    "    \n",
    "    :param max_iters: the number of maximal iterations\n",
    "    :type max_iters: int\n",
    "    \n",
    "    :param _lambda: regularizer\n",
    "    :type _lambda: float64\n",
    "    \n",
    "    :param gamma: learning rate\n",
    "    :type gamma: float64\n",
    "    \n",
    "    :param batch_size: size of the batch for batch_reg_logistic_regression\n",
    "    :type batch_size: int\n",
    "    \n",
    "    :return: accuracy, validation_weights, accuracy_mean, weights_mean\n",
    "    :rtype:  1D numpy array,  (K,xt_training.shape[1])numpy array,  float64, 1D numpy array\n",
    "    \n",
    "    \"\"\"\n",
    "\n",
    "    #Initialization of all needed arrays\n",
    "    validation_loss = np.zeros(K)\n",
    "    validation_weights = np.zeros((K,xt_training.shape[1]))\n",
    "    accuracy = np.zeros(K)\n",
    "    indices = np.linspace(0, len(y_training)-1 , K+1 ,dtype=int) #no need to randomize, split of test/train shuffled the data\n",
    "    \n",
    "    for i in range(K):\n",
    "        #Split de data \n",
    "        x_cross_test = xt_training[indices[i] : indices[i+1], :]\n",
    "        y_cross_test = y_training[indices[i] : indices[i+1]]\n",
    "        x_cross_train = np.concatenate((xt_training[:indices[i], :], xt_training[indices[i]:, :]),axis=0)\n",
    "        y_cross_train = np.concatenate((y_training[:indices[i]], y_training[indices[i]:]),axis=0)\n",
    "        \n",
    "        #Run Reg_Logistric_Regression on the obtained datasets\n",
    "        validation_weights[i], validation_loss[i] = logistic_regression(y_cross_train, x_cross_train, initial_w, max_iters, gamma)\n",
    "        #Calculate predictions of the model\n",
    "        predictions = predict(validation_weights[i] , x_cross_test)\n",
    "        #Calculate accuracy of the model\n",
    "        accuracy[i] = np.sum(predictions == y_cross_test) / len(y_cross_test)\n",
    "        \n",
    "    return accuracy, validation_weights, np.mean(accuracy), np.mean(validation_weights, axis=0)\n",
    "        "
   ]
  },
  {
   "cell_type": "code",
   "execution_count": 35,
   "metadata": {
    "ExecuteTime": {
     "end_time": "2020-10-21T16:46:11.560688Z",
     "start_time": "2020-10-21T16:46:04.478648Z"
    }
   },
   "outputs": [
    {
     "name": "stderr",
     "output_type": "stream",
     "text": [
      "C:\\Users\\thoma\\School\\Machine_learning\\ML-Project1\\helpers\\implementation_helpers.py:89: RuntimeWarning: overflow encountered in exp\n",
      "  return 1/(1 + np.exp(-x))\n"
     ]
    },
    {
     "name": "stdout",
     "output_type": "stream",
     "text": [
      "0.735358808440869\n"
     ]
    },
    {
     "data": {
      "image/png": "[encoded data removed]",
      "text/plain": [
       "<Figure size 432x288 with 1 Axes>"
      ]
     },
     "metadata": {
      "needs_background": "light"
     },
     "output_type": "display_data"
    }
   ],
   "source": [
    "acc, weights, mean_acc, mean_weights= K_Cross_Validation(x_train, y_train, 10, np.zeros(x_train.shape[1]), 20, 0, 0.003, 100)\n",
    "print(mean_acc)\n",
    "plt.boxplot(acc)\n",
    "plt.show()"
   ]
  },
  {
   "cell_type": "markdown",
   "metadata": {},
   "source": [
    "## Trying to tune the gamma parameter"
   ]
  },
  {
   "cell_type": "code",
   "execution_count": 10,
   "metadata": {
    "ExecuteTime": {
     "end_time": "2020-10-21T16:08:31.771927Z",
     "start_time": "2020-10-21T16:07:14.187786Z"
    }
   },
   "outputs": [
    {
     "name": "stdout",
     "output_type": "stream",
     "text": [
      "[1.00000000e-07 3.59381366e-07 1.29154967e-06 4.64158883e-06\n",
      " 1.66810054e-05 5.99484250e-05 2.15443469e-04 7.74263683e-04\n",
      " 2.78255940e-03 1.00000000e-02]\n",
      "4.641588833612782e-06 0.7455410805672225\n"
     ]
    },
    {
     "data": {
      "image/png": "[encoded data removed]",
      "text/plain": [
       "<Figure size 432x288 with 1 Axes>"
      ]
     },
     "metadata": {
      "needs_background": "light"
     },
     "output_type": "display_data"
    }
   ],
   "source": [
    "def Tune_Gamma(xt_training, y_training, K, gamma_range, initial_w, max_iters, batch_size=None):\n",
    "        \n",
    "    gammas = np.logspace(-7, gamma_range, 10)\n",
    "    print(gammas)\n",
    "    max_acc = 0\n",
    "    opt_lambda = 0\n",
    "    accuracies = []\n",
    "    for i, gamma in enumerate(gammas):\n",
    "       \n",
    "        accuracy = K_Cross_Validation(xt_training, y_training, K, initial_w, max_iters, None, gamma, None)[2]\n",
    "        accuracies.append([gamma,accuracy])\n",
    "        if (accuracy > max_acc):\n",
    "            max_acc = accuracy\n",
    "            opt_gamma = gamma\n",
    "                \n",
    "    return opt_gamma , max_acc, np.array(accuracies)\n",
    "opt_gamma, max_acc, accuracies = Tune_Gamma(xt_training=x_train, y_training=y_train, K= 5, gamma_range=-2, initial_w=np.zeros(x_train.shape[1]), max_iters= 50)\n",
    "accuracies = np.array(accuracies)\n",
    "print(opt_gamma, max_acc)"
   ]
  },
  {
   "cell_type": "code",
   "execution_count": 37,
   "metadata": {
    "ExecuteTime": {
     "end_time": "2020-10-21T16:46:46.456852Z",
     "start_time": "2020-10-21T16:46:45.988073Z"
    }
   },
   "outputs": [
    {
     "data": {
      "text/plain": [
       "Text(0, 0.5, 'accuracy')"
      ]
     },
     "execution_count": 37,
     "metadata": {},
     "output_type": "execute_result"
    },
    {
     "data": {
      "image/png": "[encoded data removed]",
      "text/plain": [
       "<Figure size 432x288 with 1 Axes>"
      ]
     },
     "metadata": {
      "needs_background": "light"
     },
     "output_type": "display_data"
    }
   ],
   "source": [
    "plt.scatter(accuracies[:,0],accuracies[:,1])\n",
    "plt.xscale('log')\n",
    "plt.xlim(10**(-7),1)\n",
    "plt.xlabel(\"gamma\")\n",
    "plt.ylabel('accuracy')"
   ]
  },
  {
   "cell_type": "markdown",
   "metadata": {},
   "source": [
    "## Train on full trainset with optimal Hyperparemeters "
   ]
  },
  {
   "cell_type": "code",
   "execution_count": 38,
   "metadata": {
    "ExecuteTime": {
     "end_time": "2020-10-21T16:47:15.642163Z",
     "start_time": "2020-10-21T16:47:05.787188Z"
    }
   },
   "outputs": [
    {
     "data": {
      "text/plain": [
       "Text(0, 0.5, 'loss')"
      ]
     },
     "execution_count": 38,
     "metadata": {},
     "output_type": "execute_result"
    },
    {
     "data": {
      "image/png": "[encoded data removed]",
      "text/plain": [
       "<Figure size 432x288 with 1 Axes>"
      ]
     },
     "metadata": {
      "needs_background": "light"
     },
     "output_type": "display_data"
    }
   ],
   "source": [
    "opt_w, losses = logistic_regression(y_train, x_train, np.zeros(x_train.shape[1]), 300, opt_gamma, all_losses=True)\n",
    "plt.plot(losses)\n",
    "plt.xlabel(\"iteration\")\n",
    "plt.ylabel('loss')"
   ]
  },
  {
   "cell_type": "code",
   "execution_count": 27,
   "metadata": {
    "ExecuteTime": {
     "end_time": "2020-10-21T16:15:56.108617Z",
     "start_time": "2020-10-21T16:15:56.103629Z"
    }
   },
   "outputs": [
    {
     "data": {
      "text/plain": [
       "array([-8.90930357e-01,  4.38261487e-02, -6.81745136e-01, -1.06417996e+00,\n",
       "        3.31155081e-01, -2.99868781e-02,  4.13515510e-01,  5.04133748e-02,\n",
       "        1.06710045e+00, -9.02557656e-02,  1.54740874e-01, -7.41663600e-01,\n",
       "        2.47186525e-01,  2.19279872e-01,  4.85751650e-01,  1.09939073e-03,\n",
       "       -1.60322654e-03,  9.58775734e-01, -5.26613470e-03,  3.93204754e-03,\n",
       "        1.42481268e-01,  4.71501476e-04, -1.38008098e-01,  1.12900442e-01,\n",
       "       -1.64795824e-01,  6.53037962e-04, -2.19558272e-03, -1.58455306e-01,\n",
       "        3.56978604e-03, -5.27473709e-04, -1.44193030e-01])"
      ]
     },
     "execution_count": 27,
     "metadata": {},
     "output_type": "execute_result"
    }
   ],
   "source": [
    "opt_w"
   ]
  },
  {
   "cell_type": "markdown",
   "metadata": {},
   "source": [
    "## Evaluate performance on the testset"
   ]
  },
  {
   "cell_type": "code",
   "execution_count": 28,
   "metadata": {
    "ExecuteTime": {
     "end_time": "2020-10-21T16:15:56.127565Z",
     "start_time": "2020-10-21T16:15:56.110611Z"
    }
   },
   "outputs": [
    {
     "name": "stdout",
     "output_type": "stream",
     "text": [
      "accuracy=0.753\n"
     ]
    }
   ],
   "source": [
    "p = predict(opt_w, x_test)\n",
    "print(f\"accuracy={(p==y_test).mean()}\")\n"
   ]
  },
  {
   "cell_type": "code",
   "execution_count": 33,
   "metadata": {
    "ExecuteTime": {
     "end_time": "2020-10-21T16:18:48.209906Z",
     "start_time": "2020-10-21T16:18:48.141097Z"
    }
   },
   "outputs": [
    {
     "name": "stdout",
     "output_type": "stream",
     "text": [
      "decision boundary=0.3\n",
      "test\n",
      "confusion matrix: \n",
      " [[0.66668697 0.33331303]\n",
      " [0.17697775 0.82302225]]\n",
      "accuracy=0.72036\n",
      "decision boundary=0.4\n",
      "test\n",
      "confusion matrix: \n",
      " [[0.77992325 0.22007675]\n",
      " [0.30443901 0.69556099]]\n",
      "accuracy=0.75096\n",
      "decision boundary=0.5\n",
      "test\n",
      "confusion matrix: \n",
      " [[0.86684534 0.13315466]\n",
      " [0.46475591 0.53524409]]\n",
      "accuracy=0.753\n",
      "decision boundary=0.55\n",
      "test\n",
      "confusion matrix: \n",
      " [[0.9013218  0.0986782 ]\n",
      " [0.54421531 0.45578469]]\n",
      "accuracy=0.74836\n",
      "decision boundary=0.6\n",
      "test\n",
      "confusion matrix: \n",
      " [[0.92842785 0.07157215]\n",
      " [0.63684027 0.36315973]]\n",
      "accuracy=0.73436\n",
      "decision boundary=0.65\n",
      "test\n",
      "confusion matrix: \n",
      " [[0.95120911 0.04879089]\n",
      " [0.72130957 0.27869043]]\n",
      "accuracy=0.72032\n",
      "decision boundary=0.7\n",
      "test\n",
      "confusion matrix: \n",
      " [[0.9687519  0.0312481 ]\n",
      " [0.79144821 0.20855179]]\n",
      "accuracy=0.70776\n"
     ]
    }
   ],
   "source": [
    "for b in [0.3,0.4,0.5,0.55,0.6,0.65,0.7]:\n",
    "    p = predict(opt_w,x_test,b)\n",
    "    print(f\"decision boundary={b}\")\n",
    "    print(f\"confusion matrix: \\n {confusion_matrix(y_test,p)}\")\n",
    "    print(f\"accuracy={(p==y_test).mean()}\")\n"
   ]
  },
  {
   "cell_type": "markdown",
   "metadata": {},
   "source": [
    " test and train scores are ver close & the cross-scores are also close --> no overfitting"
   ]
  },
  {
   "cell_type": "markdown",
   "metadata": {},
   "source": [
    "## Make prediction File for submission"
   ]
  },
  {
   "cell_type": "code",
   "execution_count": null,
   "metadata": {
    "ExecuteTime": {
     "end_time": "2020-10-17T09:26:47.169217Z",
     "start_time": "2020-10-17T09:24:36.947Z"
    }
   },
   "outputs": [],
   "source": [
    "p = Preprocessing(load_csv('../dataset/test.csv'))\n",
    "ids, tx = p.preprocess(labeled=False)\n"
   ]
  },
  {
   "cell_type": "code",
   "execution_count": null,
   "metadata": {
    "ExecuteTime": {
     "end_time": "2020-10-17T09:26:47.170246Z",
     "start_time": "2020-10-17T09:24:36.949Z"
    }
   },
   "outputs": [],
   "source": [
    "p = predict(w,tx)\n"
   ]
  },
  {
   "cell_type": "code",
   "execution_count": null,
   "metadata": {
    "ExecuteTime": {
     "end_time": "2020-10-17T09:26:47.171209Z",
     "start_time": "2020-10-17T09:24:36.950Z"
    }
   },
   "outputs": [],
   "source": [
    "ids.shape"
   ]
  },
  {
   "cell_type": "code",
   "execution_count": null,
   "metadata": {
    "ExecuteTime": {
     "end_time": "2020-10-17T09:26:47.171209Z",
     "start_time": "2020-10-17T09:24:36.952Z"
    }
   },
   "outputs": [],
   "source": [
    "create_csv_submission(ids, p, \"model_0001.csv\")"
   ]
  },
  {
   "cell_type": "code",
   "execution_count": null,
   "metadata": {},
   "outputs": [],
   "source": []
  }
 ],
 "metadata": {
  "kernelspec": {
   "display_name": "Python 3",
   "language": "python",
   "name": "python3"
  },
  "language_info": {
   "codemirror_mode": {
    "name": "ipython",
    "version": 3
   },
   "file_extension": ".py",
   "mimetype": "text/x-python",
   "name": "python",
   "nbconvert_exporter": "python",
   "pygments_lexer": "ipython3",
   "version": "3.7.5"
  },
  "toc": {
   "base_numbering": 1,
   "nav_menu": {},
   "number_sections": true,
   "sideBar": true,
   "skip_h1_title": false,
   "title_cell": "Table of Contents",
   "title_sidebar": "Contents",
   "toc_cell": false,
   "toc_position": {},
   "toc_section_display": true,
   "toc_window_display": false
  }
 },
 "nbformat": 4,
 "nbformat_minor": 4
}
