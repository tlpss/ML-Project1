{
 "cells": [
  {
   "cell_type": "code",
   "execution_count": 2,
   "metadata": {
    "ExecuteTime": {
     "end_time": "2020-10-18T10:27:37.489216Z",
     "start_time": "2020-10-18T10:27:37.165610Z"
    }
   },
   "outputs": [],
   "source": [
    "import numpy as np\n",
    "import matplotlib.pyplot as plt\n",
    "\n",
    "# add project root folder to path to allow import local modules\n",
    "import os\n",
    "import sys\n",
    "module_path = os.path.abspath(os.path.join('..'))\n",
    "if module_path not in sys.path:\n",
    "    sys.path.append(module_path)\n",
    "# import local modules\n",
    "from helpers import compute_ridge_loss\n",
    "from helpers import *\n",
    "from implementations import *\n",
    "from preprocessing import *"
   ]
  },
  {
   "cell_type": "code",
   "execution_count": 3,
   "metadata": {
    "ExecuteTime": {
     "end_time": "2020-10-18T10:27:37.589946Z",
     "start_time": "2020-10-18T10:27:37.585989Z"
    }
   },
   "outputs": [],
   "source": [
    "np.random.seed(2020)"
   ]
  },
  {
   "cell_type": "markdown",
   "metadata": {},
   "source": [
    "## Load Datasets\n"
   ]
  },
  {
   "cell_type": "code",
   "execution_count": 143,
   "metadata": {
    "ExecuteTime": {
     "end_time": "2020-10-18T11:12:01.934014Z",
     "start_time": "2020-10-18T11:12:01.926037Z"
    }
   },
   "outputs": [],
   "source": [
    "class SimilarityPreprocessing(Preprocessing):\n",
    "    def __init__(self,dataset,numOfDatapoints):\n",
    "        super().__init__(dataset)\n",
    "        self.num_of_datapoints = numOfDatapoints\n",
    "        \n",
    "    def _feature_engineering(self):\n",
    "        super()._feature_engineering()\n",
    "        \n",
    "        ## create similarity points\n",
    "        indices = np.argwhere(self.y).flatten()\n",
    "        np.random.shuffle(indices)\n",
    "        indices = indices[:self.num_of_datapoints]        \n",
    "        X = np.array(self.original_dataset.tolist()) # make unstructured, not very efficient..\n",
    "        X = X[:,2:] # remove IDs and '?' of predictions\n",
    "        dataset = self.dataset\n",
    "        for index in indices:\n",
    "            datapoint =  self.dataset[index]\n",
    "            similarity = self.similarity(datapoint,X)\n",
    "            dataset = np.concatenate((dataset,similarity),axis=1)\n",
    "        self.dataset = dataset\n",
    "    def similarity(self, point, X):\n",
    "        sim  = np.sum((X-point)**2,axis=1)\n",
    "        sim = (sim) /np.std(sim)        \n",
    "        return np.exp(-sim).reshape((-1,1))\n",
    "\n",
    "class AddFeaturesPreprocessing(Preprocessing):\n",
    "    def __init__(self,dataset):\n",
    "        super().__init__(dataset)\n",
    "    def _feature_engineering(self):\n",
    "        \n",
    "        X = np.array(self.original_dataset.tolist()) # make unstructured, not very efficient..\n",
    "        X = X[:,2:] # remove IDs and '?' of predictions\n",
    "        col = X[:,1]\n",
    "        f1 = col = 1-np.exp(-col**2/5000).reshape((-1,1))\n",
    "        self.dataset = np.concatenate((self.dataset,f1),axis=1)\n"
   ]
  },
  {
   "cell_type": "code",
   "execution_count": 144,
   "metadata": {
    "ExecuteTime": {
     "end_time": "2020-10-18T11:12:18.002119Z",
     "start_time": "2020-10-18T11:12:02.343962Z"
    }
   },
   "outputs": [],
   "source": [
    "## SIMILARITY FEATURES\n",
    "#p = SimilarityPreprocessing(load_csv('../dataset/trainset.csv'),100)\n",
    "#y_train , x_train= p.preprocess()\n",
    "#p = SimilarityPreprocessing(load_csv('../dataset/testset.csv'),100)\n",
    "#y_test, x_test = p.preprocess()\n",
    "\n",
    "## new feature\n",
    "p = AddFeaturesPreprocessing(load_csv('../dataset/trainset.csv'))\n",
    "y_train , x_train= p.preprocess()\n",
    "p = AddFeaturesPreprocessing(load_csv('../dataset/testset.csv'))\n",
    "y_test, x_test = p.preprocess()"
   ]
  },
  {
   "cell_type": "code",
   "execution_count": 146,
   "metadata": {
    "ExecuteTime": {
     "end_time": "2020-10-18T11:13:01.979934Z",
     "start_time": "2020-10-18T11:13:01.975946Z"
    }
   },
   "outputs": [
    {
     "name": "stdout",
     "output_type": "stream",
     "text": [
      "(225000, 32)\n",
      "(25000, 32)\n"
     ]
    }
   ],
   "source": [
    "print(x_train.shape)\n",
    "print(x_test.shape)\n"
   ]
  },
  {
   "cell_type": "markdown",
   "metadata": {},
   "source": [
    "## Prediction with decision boundary"
   ]
  },
  {
   "cell_type": "code",
   "execution_count": 147,
   "metadata": {
    "ExecuteTime": {
     "end_time": "2020-10-18T11:13:03.675832Z",
     "start_time": "2020-10-18T11:13:03.671808Z"
    }
   },
   "outputs": [],
   "source": [
    "def predict(weight, x_test, boundary = 0.5):\n",
    "    \"\"\"\n",
    "    # Gives predictions given weight and datapoints \n",
    "    \n",
    "    :param weight: vector weight\n",
    "    :type weight: 1D array\n",
    "    \n",
    "    :param x_test: extended feature matrix\n",
    "    :type x_test: 2D array\n",
    "    \n",
    "    :return: label predictions (0 or 1)\n",
    "    :rtype:  1D numpy array\n",
    "    \n",
    "    \"\"\"\n",
    "    \n",
    "    pred = x_test.dot(weight)\n",
    "    return (pred > boundary)*1\n",
    "    "
   ]
  },
  {
   "cell_type": "markdown",
   "metadata": {},
   "source": [
    "## Ridge Regression on dataset"
   ]
  },
  {
   "cell_type": "code",
   "execution_count": 148,
   "metadata": {
    "ExecuteTime": {
     "end_time": "2020-10-18T11:13:04.872778Z",
     "start_time": "2020-10-18T11:13:04.833864Z"
    }
   },
   "outputs": [
    {
     "name": "stdout",
     "output_type": "stream",
     "text": [
      "[ 5.75725621e-01  1.72734738e-02  5.54636715e-02 -1.30381013e-01\n",
      "  1.85287970e-02  1.10711473e-02  4.48984856e-02  3.58670944e-03\n",
      "  1.30488873e-01 -1.67235166e-02  7.19010404e-03 -8.60182082e-02\n",
      "  4.65995897e-02  3.80604657e-02  8.17276652e-02  2.32468829e-04\n",
      " -2.62906129e-04  1.17592527e-01 -1.05715059e-03  7.43055708e-04\n",
      "  3.50422888e-02  3.13542902e-04 -2.06751943e-02  2.01959127e-02\n",
      " -2.01702019e-02  1.19745030e-04 -4.56299509e-05 -1.61650152e-02\n",
      "  2.53759252e-04 -3.09710949e-04 -1.03772775e-02 -6.08822146e-01]\n",
      "(32,)\n",
      "0.08384294650750951\n"
     ]
    }
   ],
   "source": [
    "w, loss = ridge_regression(y_train, x_train,0.0000001)\n",
    "print(w) # gives an idea about the important columns.. \n",
    "print(w.shape)\n",
    "print(loss)"
   ]
  },
  {
   "cell_type": "markdown",
   "metadata": {
    "ExecuteTime": {
     "end_time": "2020-10-17T09:42:57.687146Z",
     "start_time": "2020-10-17T09:42:57.684154Z"
    }
   },
   "source": [
    "##  Cross Validation"
   ]
  },
  {
   "cell_type": "code",
   "execution_count": 149,
   "metadata": {
    "ExecuteTime": {
     "end_time": "2020-10-18T11:13:06.738769Z",
     "start_time": "2020-10-18T11:13:06.732797Z"
    }
   },
   "outputs": [],
   "source": [
    "def build_k_indices(y, k_fold):\n",
    "    \"\"\"build k indices for k-fold.\"\"\"\n",
    "    num_row = y.shape[0]\n",
    "    interval = int(num_row / k_fold)\n",
    "    indices = np.random.permutation(num_row)\n",
    "    k_indices = [indices[k * interval: (k + 1) * interval]\n",
    "                 for k in range(k_fold)]\n",
    "    return np.array(k_indices)\n",
    "\n",
    "def K_Cross_Validation(x, y, K, _lambda):\n",
    "    #Initialization of all needed arrays\n",
    "    test_loss = np.zeros(K)\n",
    "    train_loss = np.zeros(K)\n",
    "    weights = np.zeros((K,x.shape[1]))\n",
    "    accuracy = np.zeros(K)\n",
    "    indices = build_k_indices(y, K)\n",
    "    \n",
    "    for i in range(K):\n",
    "        test_indices = indices[i]\n",
    "        y_test = y[test_indices]\n",
    "        y_train = np.delete(y,test_indices)\n",
    "        x_test = x[test_indices,:]\n",
    "        x_train = np.delete(x,test_indices,axis=0)\n",
    "\n",
    "        ### ADAPT METHOD & LOSS\n",
    "        weights[i], train_loss[i] = ridge_regression(y_train, x_train,_lambda)\n",
    "        test_loss[i] = compute_ridge_loss(y_test,x_test,weights[i],_lambda)\n",
    "        \n",
    "        #Calculate predictions of the model\n",
    "        predictions = predict(weights[i] , x_test)\n",
    "        #Calculate accuracy of the model\n",
    "        accuracy[i] = np.sum(predictions == y_test) / len(y_test)\n",
    "        \n",
    "    return accuracy, test_loss, train_loss, np.mean(weights, axis=0)\n",
    "        "
   ]
  },
  {
   "cell_type": "code",
   "execution_count": 150,
   "metadata": {
    "ExecuteTime": {
     "end_time": "2020-10-18T11:13:07.553925Z",
     "start_time": "2020-10-18T11:13:07.203353Z"
    }
   },
   "outputs": [
    {
     "name": "stdout",
     "output_type": "stream",
     "text": [
      "0.7482\n"
     ]
    },
    {
     "data": {
      "image/png": "[encoded data removed]",
      "text/plain": [
       "<Figure size 432x288 with 1 Axes>"
      ]
     },
     "metadata": {
      "needs_background": "light"
     },
     "output_type": "display_data"
    }
   ],
   "source": [
    "accs,test_loss, train_loss, w = K_Cross_Validation(x_train,y_train,4,0.001)\n",
    "plt.boxplot(accs)\n",
    "print(accs.mean())"
   ]
  },
  {
   "cell_type": "markdown",
   "metadata": {},
   "source": [
    "## Tune Hyperparameters"
   ]
  },
  {
   "cell_type": "code",
   "execution_count": 151,
   "metadata": {
    "ExecuteTime": {
     "end_time": "2020-10-18T11:13:16.355522Z",
     "start_time": "2020-10-18T11:13:09.340182Z"
    }
   },
   "outputs": [
    {
     "name": "stdout",
     "output_type": "stream",
     "text": [
      "optimal loss = 0.0838707422420909 with lambda= 6.951927961775605e-07\n",
      "accuracy = 0.7494488888888888\n"
     ]
    }
   ],
   "source": [
    "def Tune_lambda(xt_training, y_training, K, gamma_range):\n",
    "        \n",
    "    gammas = np.logspace(-7, gamma_range, 20)\n",
    "    min_loss = np.inf\n",
    "    opt_lambda = 0\n",
    "    opt_index = 0\n",
    "    accuracies = []\n",
    "    train_losses = []\n",
    "    test_losses = []\n",
    "    for i, lambda_ in enumerate(gammas):\n",
    "       \n",
    "        accuracy,test,train,w = K_Cross_Validation(xt_training, y_training, K,lambda_)\n",
    "        accuracies.append([lambda_,accuracy.mean()])\n",
    "        train_losses.append([lambda_,train.mean()])\n",
    "        test_losses.append([lambda_,test.mean()])\n",
    "        if (test.mean() < min_loss):\n",
    "            min_loss = test.mean()\n",
    "            opt_lambda = lambda_\n",
    "            opt_index = i\n",
    "                \n",
    "    return opt_lambda , min_loss, np.array(accuracies), np.array(train_losses), np.array(test_losses), opt_index\n",
    "opt_lambda, min_loss, acc ,train, test, opt_index= Tune_lambda(x_train, y_train, 5, 1)\n",
    "\n",
    "print(f\"optimal loss = {min_loss} with lambda= {opt_lambda}\")\n",
    "print(f\"accuracy = {acc[opt_index][1]}\")"
   ]
  },
  {
   "cell_type": "code",
   "execution_count": 152,
   "metadata": {
    "ExecuteTime": {
     "end_time": "2020-10-18T11:13:16.578434Z",
     "start_time": "2020-10-18T11:13:16.356518Z"
    }
   },
   "outputs": [
    {
     "data": {
      "image/png": "[encoded data removed]",
      "text/plain": [
       "<Figure size 432x288 with 1 Axes>"
      ]
     },
     "metadata": {
      "needs_background": "light"
     },
     "output_type": "display_data"
    }
   ],
   "source": [
    "\n",
    "plt.plot(acc[:,0],acc[:,1], label=\"accuracy\")\n",
    "plt.plot(train[:,0],train[:,1],alpha=0.5,label=\"train error\")\n",
    "plt.plot(test[:,0],test[:,1],alpha=0.5, label = \"test eror\")\n",
    "plt.yscale(\"log\")\n",
    "plt.xscale(\"log\")\n",
    "plt.xlabel(\"lambda\")\n",
    "plt.ylabel(\"MSE\")\n",
    "plt.legend(loc=\"upper right\")\n",
    "plt.show()"
   ]
  },
  {
   "cell_type": "markdown",
   "metadata": {},
   "source": [
    "model is clearly **UNDERFITTING**, test and train score are exactly the same and increasing"
   ]
  },
  {
   "cell_type": "markdown",
   "metadata": {},
   "source": [
    "## predictions on test set "
   ]
  },
  {
   "cell_type": "code",
   "execution_count": null,
   "metadata": {},
   "outputs": [],
   "source": []
  },
  {
   "cell_type": "code",
   "execution_count": 153,
   "metadata": {
    "ExecuteTime": {
     "end_time": "2020-10-18T11:13:22.160260Z",
     "start_time": "2020-10-18T11:13:22.113353Z"
    }
   },
   "outputs": [
    {
     "name": "stdout",
     "output_type": "stream",
     "text": [
      "0.7536\n"
     ]
    }
   ],
   "source": [
    "w_opt,loss = ridge_regression(y_train,x_train,opt_lambda)\n",
    "p = predict(w_opt,x_test)\n",
    "print((p==y_test).mean())"
   ]
  },
  {
   "cell_type": "code",
   "execution_count": 154,
   "metadata": {
    "ExecuteTime": {
     "end_time": "2020-10-18T11:13:25.202634Z",
     "start_time": "2020-10-18T11:13:25.196682Z"
    }
   },
   "outputs": [
    {
     "data": {
      "text/plain": [
       "array([ 5.75670943e-01,  1.72701759e-02,  5.54210547e-02, -1.30379520e-01,\n",
       "        1.85243125e-02,  1.10716915e-02,  4.48981885e-02,  3.58666272e-03,\n",
       "        1.30490082e-01, -1.67228683e-02,  1.78341452e-02, -8.60188145e-02,\n",
       "        4.66024690e-02,  3.80604218e-02,  7.96690951e-02,  2.32457982e-04,\n",
       "       -2.62922353e-04,  1.15566879e-01, -1.05710369e-03,  7.43056177e-04,\n",
       "        3.50461595e-02,  3.13586083e-04, -2.06755498e-02,  2.01953112e-02,\n",
       "       -2.01713567e-02,  1.19781253e-04, -4.56486394e-05, -1.61655867e-02,\n",
       "        2.53808579e-04, -3.09698564e-04, -1.93907997e-02, -6.08681144e-01])"
      ]
     },
     "execution_count": 154,
     "metadata": {},
     "output_type": "execute_result"
    }
   ],
   "source": [
    "w_opt"
   ]
  },
  {
   "cell_type": "code",
   "execution_count": null,
   "metadata": {},
   "outputs": [],
   "source": []
  }
 ],
 "metadata": {
  "kernelspec": {
   "display_name": "ML-project1",
   "language": "python",
   "name": "ml-project1"
  },
  "language_info": {
   "codemirror_mode": {
    "name": "ipython",
    "version": 3
   },
   "file_extension": ".py",
   "mimetype": "text/x-python",
   "name": "python",
   "nbconvert_exporter": "python",
   "pygments_lexer": "ipython3",
   "version": "3.7.5"
  },
  "toc": {
   "base_numbering": 1,
   "nav_menu": {},
   "number_sections": true,
   "sideBar": true,
   "skip_h1_title": false,
   "title_cell": "Table of Contents",
   "title_sidebar": "Contents",
   "toc_cell": false,
   "toc_position": {},
   "toc_section_display": true,
   "toc_window_display": false
  }
 },
 "nbformat": 4,
 "nbformat_minor": 2
}
