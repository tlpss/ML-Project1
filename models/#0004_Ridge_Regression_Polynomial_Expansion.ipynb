{
 "cells": [
  {
   "cell_type": "code",
   "execution_count": 1,
   "metadata": {
    "ExecuteTime": {
     "end_time": "2020-10-26T08:29:03.353744Z",
     "start_time": "2020-10-26T08:29:03.009635Z"
    }
   },
   "outputs": [],
   "source": [
    "import numpy as np\n",
    "import matplotlib.pyplot as plt\n",
    "\n",
    "# add project root folder to path to allow import local modules\n",
    "import os\n",
    "import sys\n",
    "module_path = os.path.abspath(os.path.join('..'))\n",
    "if module_path not in sys.path:\n",
    "    sys.path.append(module_path)\n",
    "# import local modules\n",
    "from helpers import compute_ridge_loss\n",
    "from helpers import *\n",
    "from implementations import *\n",
    "from preprocessing import *"
   ]
  },
  {
   "cell_type": "code",
   "execution_count": 2,
   "metadata": {
    "ExecuteTime": {
     "end_time": "2020-10-26T08:29:03.358711Z",
     "start_time": "2020-10-26T08:29:03.354689Z"
    }
   },
   "outputs": [],
   "source": [
    "np.random.seed(2020)"
   ]
  },
  {
   "cell_type": "code",
   "execution_count": null,
   "metadata": {},
   "outputs": [],
   "source": []
  },
  {
   "cell_type": "markdown",
   "metadata": {},
   "source": [
    "## Make custom pipeline to create polynomial expansion of the features"
   ]
  },
  {
   "cell_type": "code",
   "execution_count": 3,
   "metadata": {
    "ExecuteTime": {
     "end_time": "2020-10-26T08:29:04.183540Z",
     "start_time": "2020-10-26T08:29:04.177553Z"
    }
   },
   "outputs": [],
   "source": [
    "class PolyPreprocessing(Preprocessing):\n",
    "    def __init__(self,dataset):\n",
    "        super().__init__(dataset)\n",
    "        self.degree = None\n",
    "        self.cross_degree = None\n",
    "        \n",
    "    def set_degrees(self,degree, cross_degree):\n",
    "        self.degree = degree\n",
    "        self.cross_degree = cross_degree\n",
    "        \n",
    "    def _feature_engineering(self):\n",
    "        super()._feature_engineering() # to create pipeline\n",
    "        \n",
    "        dataset =self.dataset\n",
    "        \n",
    "        for deg in range(2,self.degree+1):\n",
    "            self.dataset = np.concatenate((self.dataset, np.power(dataset,deg)),axis=1)\n",
    "        \n",
    "        if (self.cross_degree):\n",
    "            for col_i in range(dataset.shape[1]):\n",
    "                print(col_i)\n",
    "                for col_j in range(col_i+1,dataset.shape[1]):\n",
    "                    col = dataset[:,col_i]*dataset[:,col_j]\n",
    "                    self.dataset = np.concatenate((self.dataset,col.reshape((-1,1))),axis=1)\n",
    "\n",
    "     "
   ]
  },
  {
   "cell_type": "markdown",
   "metadata": {},
   "source": [
    "## Prediction with decision boundary"
   ]
  },
  {
   "cell_type": "code",
   "execution_count": 4,
   "metadata": {
    "ExecuteTime": {
     "end_time": "2020-10-26T08:29:04.948492Z",
     "start_time": "2020-10-26T08:29:04.944503Z"
    }
   },
   "outputs": [],
   "source": [
    "def predict(weight, x_test, boundary = 0.5):\n",
    "    \"\"\"\n",
    "    # Gives predictions given weight and datapoints \n",
    "    \n",
    "    :param weight: vector weight\n",
    "    :type weight: 1D array\n",
    "    \n",
    "    :param x_test: extended feature matrix\n",
    "    :type x_test: 2D array\n",
    "    \n",
    "    :return: label predictions (0 or 1)\n",
    "    :rtype:  1D numpy array\n",
    "    \n",
    "    \"\"\"\n",
    "    \n",
    "    pred = x_test.dot(weight)\n",
    "    return (pred > boundary)*1\n",
    "    "
   ]
  },
  {
   "cell_type": "markdown",
   "metadata": {
    "ExecuteTime": {
     "end_time": "2020-10-17T09:42:57.687146Z",
     "start_time": "2020-10-17T09:42:57.684154Z"
    }
   },
   "source": [
    "##  Cross Validation"
   ]
  },
  {
   "cell_type": "code",
   "execution_count": 5,
   "metadata": {
    "ExecuteTime": {
     "end_time": "2020-10-26T08:29:05.801212Z",
     "start_time": "2020-10-26T08:29:05.792237Z"
    }
   },
   "outputs": [],
   "source": [
    "def build_k_indices(y, k_fold):\n",
    "    \"\"\"build k indices for k-fold.\"\"\"\n",
    "    num_row = y.shape[0]\n",
    "    interval = int(num_row / k_fold)\n",
    "    indices = np.random.permutation(num_row)\n",
    "    k_indices = [indices[k * interval: (k + 1) * interval]\n",
    "                 for k in range(k_fold)]\n",
    "    return np.array(k_indices)\n",
    "\n",
    "def K_Cross_Validation(x, y, K, _lambda):\n",
    "    #Initialization of all needed arrays\n",
    "    test_loss = np.zeros(K)\n",
    "    train_loss = np.zeros(K)\n",
    "    weights = np.zeros((K,x.shape[1]))\n",
    "    accuracy = np.zeros(K)\n",
    "    indices = build_k_indices(y, K)\n",
    "    \n",
    "    for i in range(K):\n",
    "        test_indices = indices[i]\n",
    "        y_test = y[test_indices]\n",
    "        y_train = np.delete(y,test_indices)\n",
    "        x_test = x[test_indices,:]\n",
    "        x_train = np.delete(x,test_indices,axis=0)\n",
    "        ### ADAPT METHOD & LOSS\n",
    "        weights[i], train_loss[i] = ridge_regression(y_train, x_train,_lambda)\n",
    "        test_loss[i] = compute_ridge_loss(y_test,x_test,weights[i],_lambda)\n",
    "        \n",
    "        #Calculate predictions of the model\n",
    "        predictions = predict(weights[i] , x_test)\n",
    "        #Calculate accuracy of the model\n",
    "        accuracy[i] = np.sum(predictions == y_test) / len(y_test)\n",
    "        \n",
    "    return accuracy, test_loss, train_loss, np.mean(weights, axis=0)\n",
    "        "
   ]
  },
  {
   "cell_type": "code",
   "execution_count": null,
   "metadata": {
    "ExecuteTime": {
     "end_time": "2020-10-18T13:37:05.162558Z",
     "start_time": "2020-10-18T13:36:59.823812Z"
    }
   },
   "outputs": [],
   "source": []
  },
  {
   "cell_type": "markdown",
   "metadata": {},
   "source": [
    "## Determine degree"
   ]
  },
  {
   "cell_type": "code",
   "execution_count": 6,
   "metadata": {
    "ExecuteTime": {
     "end_time": "2020-10-26T08:32:35.748781Z",
     "start_time": "2020-10-26T08:29:07.752292Z"
    }
   },
   "outputs": [
    {
     "name": "stdout",
     "output_type": "stream",
     "text": [
      "optimal acc = 0.7964666666666667 with lambda= 5\n"
     ]
    }
   ],
   "source": [
    "def PolyDegree(K, max_degree, lambda_):\n",
    "        \n",
    "    degrees = np.arange(3,max_degree)\n",
    "    max_acc = 0\n",
    "    min_loss = np.inf\n",
    "    opt_degree = 0\n",
    "    accuracies = []\n",
    "    train_losses = []\n",
    "    test_losses = []\n",
    "    for i, degree in enumerate(degrees):\n",
    "        # create train\n",
    "        p_train = PolyPreprocessing(load_csv('../dataset/trainset.csv'))\n",
    "        p_train.set_degrees(degree,0)\n",
    "        y_train , x_train= p_train.preprocess()\n",
    "        # K-cross validation\n",
    "        accuracy,test,train,w = K_Cross_Validation(x_train, y_train, K,lambda_)\n",
    "        accuracies.append([degree,np.mean(accuracy)])\n",
    "        train_losses.append([degree,np.median(train)])\n",
    "        test_losses.append([degree,np.median(test)])\n",
    "        if (np.median(test) < min_loss):\n",
    "            min_loss = np.median(test)\n",
    "            max_acc = np.median(accuracy)\n",
    "            opt_degree = degree\n",
    "                \n",
    "    return opt_degree , max_acc, np.array(accuracies), np.array(train_losses), np.array(test_losses)\n",
    "opt_lambda, max_acc, acc ,train, test= PolyDegree(5,15, 0.00001)\n",
    "\n",
    "print(f\"optimal acc = {max_acc} with lambda= {opt_lambda}\")"
   ]
  },
  {
   "cell_type": "code",
   "execution_count": 27,
   "metadata": {
    "ExecuteTime": {
     "end_time": "2020-10-26T08:57:45.780461Z",
     "start_time": "2020-10-26T08:57:45.547039Z"
    }
   },
   "outputs": [
    {
     "data": {
      "image/png": "[encoded data removed]",
      "text/plain": [
       "<Figure size 576x216 with 2 Axes>"
      ]
     },
     "metadata": {
      "needs_background": "light"
     },
     "output_type": "display_data"
    }
   ],
   "source": [
    "fig, host = plt.subplots(figsize = (8,3))\n",
    "fig.subplots_adjust(right=0.75)\n",
    "\n",
    "par1 = host.twinx()\n",
    "\n",
    "\n",
    "p1, = host.plot(train[:,0],train[:,1],alpha=0.5,marker = 'o',label=\"Train error\")\n",
    "p12, = host.plot(test[:,0],test[:,1],alpha=0.5,marker = 'o', label = \"Test eror\")\n",
    "p2, = par1.plot(acc[:,0],acc[:,1], \"g-\",alpha=0.5,marker = 'o',label=\"Mean K-Fold Accuracy\")\n",
    "\n",
    "\n",
    "host.set_xlim(3, 14)\n",
    "host.set_yscale('log')\n",
    "par1.set_ylim(0.6, 0.95)\n",
    "\n",
    "host.set_xlabel(\"Degree\")\n",
    "host.set_ylabel(\"Loss\")\n",
    "par1.set_ylabel(\"Accuracy\")\n",
    "\n",
    "\n",
    "\n",
    "tkw = dict(size=4, width=1.5)\n",
    "host.tick_params(axis='y' , **tkw)\n",
    "par1.tick_params(axis='y', **tkw)\n",
    "host.tick_params(axis='x', **tkw)\n",
    "\n",
    "lines = [p1,p12, p2]\n",
    "\n",
    "host.legend(lines, [l.get_label() for l in lines])\n",
    "\n",
    "plt.show();\n"
   ]
  },
  {
   "cell_type": "code",
   "execution_count": 8,
   "metadata": {
    "ExecuteTime": {
     "end_time": "2020-10-26T08:33:11.405334Z",
     "start_time": "2020-10-26T08:33:11.398353Z"
    }
   },
   "outputs": [
    {
     "data": {
      "text/plain": [
       "array([[ 3.        ,  0.78384444],\n",
       "       [ 4.        ,  0.79242222],\n",
       "       [ 5.        ,  0.79646667],\n",
       "       [ 6.        ,  0.7982    ],\n",
       "       [ 7.        ,  0.80462222],\n",
       "       [ 8.        ,  0.81044444],\n",
       "       [ 9.        ,  0.81526667],\n",
       "       [10.        ,  0.81684444],\n",
       "       [11.        ,  0.81624444],\n",
       "       [12.        ,  0.81784444],\n",
       "       [13.        ,  0.81695556],\n",
       "       [14.        ,  0.81331111]])"
      ]
     },
     "execution_count": 8,
     "metadata": {},
     "output_type": "execute_result"
    }
   ],
   "source": [
    "acc"
   ]
  },
  {
   "cell_type": "code",
   "execution_count": null,
   "metadata": {},
   "outputs": [],
   "source": []
  }
 ],
 "metadata": {
  "kernelspec": {
   "display_name": "Python 3",
   "language": "python",
   "name": "python3"
  },
  "language_info": {
   "codemirror_mode": {
    "name": "ipython",
    "version": 3
   },
   "file_extension": ".py",
   "mimetype": "text/x-python",
   "name": "python",
   "nbconvert_exporter": "python",
   "pygments_lexer": "ipython3",
   "version": "3.7.9"
  },
  "toc": {
   "base_numbering": 1,
   "nav_menu": {},
   "number_sections": true,
   "sideBar": true,
   "skip_h1_title": false,
   "title_cell": "Table of Contents",
   "title_sidebar": "Contents",
   "toc_cell": false,
   "toc_position": {},
   "toc_section_display": true,
   "toc_window_display": false
  }
 },
 "nbformat": 4,
 "nbformat_minor": 2
}
