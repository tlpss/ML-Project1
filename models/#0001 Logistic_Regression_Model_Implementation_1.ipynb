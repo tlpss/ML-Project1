{
 "cells": [
  {
   "cell_type": "code",
   "execution_count": 3,
   "metadata": {
    "ExecuteTime": {
     "end_time": "2020-10-09T14:04:00.488677Z",
     "start_time": "2020-10-09T14:04:00.482697Z"
    }
   },
   "outputs": [],
   "source": [
    "import numpy as np\n",
    "import matplotlib.pyplot as plt\n",
    "\n",
    "# add project root folder to path to allow import local modules\n",
    "import os\n",
    "import sys\n",
    "module_path = os.path.abspath(os.path.join('..'))\n",
    "if module_path not in sys.path:\n",
    "    sys.path.append(module_path)\n",
    "# import local modules\n",
    "from helpers import *\n",
    "from implementations import *\n",
    "from preprocessing import *"
   ]
  },
  {
   "cell_type": "code",
   "execution_count": 4,
   "metadata": {
    "ExecuteTime": {
     "end_time": "2020-10-09T14:04:00.873788Z",
     "start_time": "2020-10-09T14:04:00.868802Z"
    }
   },
   "outputs": [],
   "source": [
    "Seed = 42"
   ]
  },
  {
   "cell_type": "markdown",
   "metadata": {},
   "source": [
    "## Load the Data"
   ]
  },
  {
   "cell_type": "code",
   "execution_count": 6,
   "metadata": {
    "ExecuteTime": {
     "end_time": "2020-10-09T14:04:23.141225Z",
     "start_time": "2020-10-09T14:04:10.532317Z"
    }
   },
   "outputs": [],
   "source": [
    "p = Preprocessing(load_csv('../dataset/trainset.csv'))\n",
    "y_train , x_train= p.preprocess()\n",
    "p = Preprocessing(load_csv('../dataset/testset.csv'))\n",
    "y_test, x_test = p.preprocess()"
   ]
  },
  {
   "cell_type": "code",
   "execution_count": 16,
   "metadata": {
    "ExecuteTime": {
     "end_time": "2020-10-09T13:29:32.670367Z",
     "start_time": "2020-10-09T13:29:32.666412Z"
    }
   },
   "outputs": [
    {
     "name": "stdout",
     "output_type": "stream",
     "text": [
      "(225000, 31)\n",
      "(25000, 31)\n"
     ]
    }
   ],
   "source": [
    "print(x_train.shape)\n",
    "print(x_test.shape)\n"
   ]
  },
  {
   "cell_type": "markdown",
   "metadata": {},
   "source": [
    "## Basic Split\n"
   ]
  },
  {
   "cell_type": "code",
   "execution_count": 17,
   "metadata": {
    "ExecuteTime": {
     "end_time": "2020-10-09T13:29:49.349968Z",
     "start_time": "2020-10-09T13:29:49.346977Z"
    }
   },
   "outputs": [],
   "source": [
    "#x_test , x_train ,y_test , y_train = basic_split_data(xt, y, 0.8, Seed)"
   ]
  },
  {
   "cell_type": "markdown",
   "metadata": {},
   "source": [
    "## Logistic predictions from weights"
   ]
  },
  {
   "cell_type": "code",
   "execution_count": 7,
   "metadata": {
    "ExecuteTime": {
     "end_time": "2020-10-09T14:05:22.836863Z",
     "start_time": "2020-10-09T14:05:22.830879Z"
    }
   },
   "outputs": [],
   "source": [
    "def predict(weight, x_test):\n",
    "    \"\"\"\n",
    "    # Gives predictions given weight and datapoints \n",
    "    \n",
    "    :param weight: vector weight\n",
    "    :type weight: 1D array\n",
    "    \n",
    "    :param x_test: extended feature matrix\n",
    "    :type x_test: 2D array\n",
    "    \n",
    "    :return: label predictions (0 or 1)\n",
    "    :rtype:  1D numpy array\n",
    "    \n",
    "    \"\"\"\n",
    "    \n",
    "    pred = calculate_sigmoid(weight, x_test.T)\n",
    "    \n",
    "    f = lambda x : 0 if x <0.5 else 1\n",
    "    \n",
    "    predictions = np.array([ f(x) for x in pred])\n",
    "    \n",
    "    return predictions"
   ]
  },
  {
   "cell_type": "markdown",
   "metadata": {},
   "source": [
    "## Cross Validation, Calculation of the Accuracy "
   ]
  },
  {
   "cell_type": "code",
   "execution_count": 8,
   "metadata": {
    "ExecuteTime": {
     "end_time": "2020-10-09T14:05:25.614190Z",
     "start_time": "2020-10-09T14:05:25.605161Z"
    }
   },
   "outputs": [],
   "source": [
    "def K_Cross_Validation(xt_training, y_training, K, initial_w, max_iters, _lambda, gamma, batch_size):\n",
    "    \"\"\"\n",
    "    #K_Cross_Validation training technique\n",
    "    \n",
    "    :param xt_training: extended feature matrix \n",
    "    :type xt: numpy 2D array\n",
    "    \n",
    "    :param y_training: labels\n",
    "    :type y_training: 1D array\n",
    "    \n",
    "    :param K: number of folds\n",
    "    :type K: int\n",
    "    \n",
    "    :param initial_w: initial value of weights\n",
    "    :type initial_w: numpy 1D array\n",
    "    \n",
    "    :param max_iters: the number of maximal iterations\n",
    "    :type max_iters: int\n",
    "    \n",
    "    :param _lambda: regularizer\n",
    "    :type _lambda: float64\n",
    "    \n",
    "    :param gamma: learning rate\n",
    "    :type gamma: float64\n",
    "    \n",
    "    :param batch_size: size of the batch for batch_reg_logistic_regression\n",
    "    :type batch_size: int\n",
    "    \n",
    "    :return: accuracy, validation_weights, accuracy_mean, weights_mean\n",
    "    :rtype:  1D numpy array,  (K,xt_training.shape[1])numpy array,  float64, 1D numpy array\n",
    "    \n",
    "    \"\"\"\n",
    "\n",
    "    #Initialization of all needed arrays\n",
    "    validation_loss = np.zeros(K)\n",
    "    validation_weights = np.zeros((K,xt_training.shape[1]))\n",
    "    accuracy = np.zeros(K)\n",
    "    indices = np.linspace(0, len(y_training)-1 , K+1 ,dtype=int)\n",
    "    \n",
    "    for i in range(K):\n",
    "        #Split de data \n",
    "        x_cross_test = xt_training[indices[i] : indices[i+1], :]\n",
    "        y_cross_test = y_training[indices[i] : indices[i+1]]\n",
    "        x_cross_train = np.concatenate((xt_training[:indices[i], :], xt_training[indices[i]:, :]),axis=0)\n",
    "        y_cross_train = np.concatenate((y_training[:indices[i]], y_training[indices[i]:]),axis=0)\n",
    "        \n",
    "        #Run Reg_Logistric_Regression on the obtained datasets\n",
    "        validation_weights[i], validation_loss[i] = reg_batch_logistic_regression(y_cross_train, x_cross_train, _lambda, initial_w, max_iters, gamma, batch_size)\n",
    "        #Calculate predictions of the model\n",
    "        predictions = predict(validation_weights[i] , x_cross_test)\n",
    "        #Calculate accuracy of the model\n",
    "        accuracy[i] = np.sum(predictions == y_cross_test) / len(y_cross_test)\n",
    "        \n",
    "    return accuracy, validation_weights, np.mean(accuracy), np.mean(validation_weights, axis=0)\n",
    "        "
   ]
  },
  {
   "cell_type": "code",
   "execution_count": 10,
   "metadata": {
    "ExecuteTime": {
     "end_time": "2020-10-09T14:06:18.610480Z",
     "start_time": "2020-10-09T14:06:03.023884Z"
    }
   },
   "outputs": [
    {
     "data": {
      "text/plain": [
       "0.7055675953418084"
      ]
     },
     "execution_count": 10,
     "metadata": {},
     "output_type": "execute_result"
    }
   ],
   "source": [
    "acc, weights, mean_acc, mean_weights= K_Cross_Validation(x_train, y_train, 20, np.zeros(x_train.shape[1]), 20, 0.1, 0.2, 20)\n",
    "mean_acc\n"
   ]
  },
  {
   "cell_type": "markdown",
   "metadata": {},
   "source": [
    "## Test of the model with the mean of weights obtained with Cross Validation"
   ]
  },
  {
   "cell_type": "code",
   "execution_count": 11,
   "metadata": {
    "ExecuteTime": {
     "end_time": "2020-10-09T14:06:24.965621Z",
     "start_time": "2020-10-09T14:06:24.947639Z"
    }
   },
   "outputs": [
    {
     "data": {
      "text/plain": [
       "0.70828"
      ]
     },
     "execution_count": 11,
     "metadata": {},
     "output_type": "execute_result"
    }
   ],
   "source": [
    "def Accuracy_On_Test_Set(w, x_test, y_test):     \n",
    "    #Test the trained model on test set\n",
    "    predictions = predict(w , x_test)\n",
    "    accuracy = np.sum(predictions == y_test) / len(y_test)\n",
    "    \n",
    "    return accuracy\n",
    "\n",
    "Accuracy_On_Test_Set(mean_weights, x_test, y_test)"
   ]
  },
  {
   "cell_type": "markdown",
   "metadata": {},
   "source": [
    "## Trying to tune the lambda parameter (regularizer)"
   ]
  },
  {
   "cell_type": "code",
   "execution_count": 12,
   "metadata": {
    "ExecuteTime": {
     "end_time": "2020-10-09T14:07:10.820885Z",
     "start_time": "2020-10-09T14:07:10.812907Z"
    }
   },
   "outputs": [],
   "source": [
    "def Tune_Lambda(xt_training, y_training, K, lambda_range, initial_w, max_iters, gamma, batch_size):\n",
    "        \n",
    "    lambdas = np.linspace(0, lambda_range, 20)\n",
    "    max_acc = 0\n",
    "    opt_lambda = 0\n",
    "    accuracies = []\n",
    "    for i, lam in enumerate(lambdas):\n",
    "       \n",
    "        accuracy = K_Cross_Validation(xt_training, y_training, K, initial_w, max_iters, lam, gamma, batch_size)[2]\n",
    "        accuracies.append([lam,accuracy])\n",
    "        if (accuracy > max_acc):\n",
    "            max_acc = accuracy\n",
    "            opt_lambda = lam\n",
    "                \n",
    "    return opt_lambda , max_acc, np.array(accuracies)"
   ]
  },
  {
   "cell_type": "code",
   "execution_count": 16,
   "metadata": {
    "ExecuteTime": {
     "end_time": "2020-10-09T14:10:29.430356Z",
     "start_time": "2020-10-09T14:09:08.455894Z"
    }
   },
   "outputs": [],
   "source": [
    "opt_lambda, max_acc, accuracies = Tune_Lambda(xt_training=x_train, y_training=y_train, K= 5, lambda_range=1, initial_w=np.zeros(x_train.shape[1]), max_iters= 30, gamma=0.4, batch_size=20)\n"
   ]
  },
  {
   "cell_type": "code",
   "execution_count": 17,
   "metadata": {
    "ExecuteTime": {
     "end_time": "2020-10-09T14:10:29.435265Z",
     "start_time": "2020-10-09T14:10:29.431322Z"
    }
   },
   "outputs": [],
   "source": [
    "accuracies = np.array(accuracies)"
   ]
  },
  {
   "cell_type": "code",
   "execution_count": 18,
   "metadata": {
    "ExecuteTime": {
     "end_time": "2020-10-09T14:10:29.573881Z",
     "start_time": "2020-10-09T14:10:29.437249Z"
    }
   },
   "outputs": [
    {
     "name": "stdout",
     "output_type": "stream",
     "text": [
      "0.05263157894736842 0.719305397403893\n"
     ]
    },
    {
     "data": {
      "image/png": "[encoded data removed]",
      "text/plain": [
       "<Figure size 432x288 with 1 Axes>"
      ]
     },
     "metadata": {
      "needs_background": "light"
     },
     "output_type": "display_data"
    }
   ],
   "source": [
    "plt.scatter(accuracies[:,0],accuracies[:,1])\n",
    "print(opt_lambda, max_acc)"
   ]
  },
  {
   "cell_type": "markdown",
   "metadata": {},
   "source": [
    "## calculate weights with optimal hyperparameters"
   ]
  },
  {
   "cell_type": "code",
   "execution_count": 20,
   "metadata": {
    "ExecuteTime": {
     "end_time": "2020-10-09T14:16:10.568532Z",
     "start_time": "2020-10-09T14:16:09.747756Z"
    }
   },
   "outputs": [],
   "source": [
    "w, loss_tr = reg_batch_logistic_regression(y_train, x_train, opt_lambda, np.zeros(x_train.shape[1]), 40, 0.4, 30)"
   ]
  },
  {
   "cell_type": "code",
   "execution_count": 22,
   "metadata": {
    "ExecuteTime": {
     "end_time": "2020-10-09T14:16:57.601994Z",
     "start_time": "2020-10-09T14:16:57.586037Z"
    }
   },
   "outputs": [
    {
     "data": {
      "text/plain": [
       "0.71792"
      ]
     },
     "execution_count": 22,
     "metadata": {},
     "output_type": "execute_result"
    }
   ],
   "source": [
    "np.sum(predict(w,x_test) == y_test) / len(y_test)"
   ]
  },
  {
   "cell_type": "code",
   "execution_count": null,
   "metadata": {},
   "outputs": [],
   "source": []
  }
 ],
 "metadata": {
  "kernelspec": {
   "display_name": "Python 3",
   "language": "python",
   "name": "python3"
  },
  "language_info": {
   "codemirror_mode": {
    "name": "ipython",
    "version": 3
   },
   "file_extension": ".py",
   "mimetype": "text/x-python",
   "name": "python",
   "nbconvert_exporter": "python",
   "pygments_lexer": "ipython3",
   "version": "3.7.5"
  },
  "toc": {
   "base_numbering": 1,
   "nav_menu": {},
   "number_sections": true,
   "sideBar": true,
   "skip_h1_title": false,
   "title_cell": "Table of Contents",
   "title_sidebar": "Contents",
   "toc_cell": false,
   "toc_position": {},
   "toc_section_display": true,
   "toc_window_display": false
  }
 },
 "nbformat": 4,
 "nbformat_minor": 4
}
