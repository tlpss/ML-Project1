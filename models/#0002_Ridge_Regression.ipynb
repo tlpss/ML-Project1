{
 "cells": [
  {
   "cell_type": "code",
   "execution_count": 126,
   "metadata": {
    "ExecuteTime": {
     "end_time": "2020-10-17T10:20:38.380464Z",
     "start_time": "2020-10-17T10:20:38.375478Z"
    }
   },
   "outputs": [],
   "source": [
    "import numpy as np\n",
    "import matplotlib.pyplot as plt\n",
    "\n",
    "# add project root folder to path to allow import local modules\n",
    "import os\n",
    "import sys\n",
    "module_path = os.path.abspath(os.path.join('..'))\n",
    "if module_path not in sys.path:\n",
    "    sys.path.append(module_path)\n",
    "# import local modules\n",
    "from helpers import compute_ridge_loss\n",
    "from helpers import *\n",
    "from implementations import *\n",
    "from preprocessing import *"
   ]
  },
  {
   "cell_type": "code",
   "execution_count": 80,
   "metadata": {
    "ExecuteTime": {
     "end_time": "2020-10-17T10:06:49.590336Z",
     "start_time": "2020-10-17T10:06:49.583386Z"
    }
   },
   "outputs": [],
   "source": [
    "np.random.seed(2020)"
   ]
  },
  {
   "cell_type": "markdown",
   "metadata": {},
   "source": [
    "## Load Datasets\n"
   ]
  },
  {
   "cell_type": "code",
   "execution_count": 2,
   "metadata": {
    "ExecuteTime": {
     "end_time": "2020-10-17T09:04:54.912713Z",
     "start_time": "2020-10-17T09:04:41.974156Z"
    }
   },
   "outputs": [],
   "source": [
    "p = Preprocessing(load_csv('../dataset/trainset.csv'))\n",
    "y_train , x_train= p.preprocess()\n",
    "p = Preprocessing(load_csv('../dataset/testset.csv'))\n",
    "y_test, x_test = p.preprocess()"
   ]
  },
  {
   "cell_type": "code",
   "execution_count": 3,
   "metadata": {
    "ExecuteTime": {
     "end_time": "2020-10-17T09:04:54.918698Z",
     "start_time": "2020-10-17T09:04:54.913717Z"
    }
   },
   "outputs": [
    {
     "name": "stdout",
     "output_type": "stream",
     "text": [
      "(225000, 31)\n",
      "(25000, 31)\n"
     ]
    }
   ],
   "source": [
    "print(x_train.shape)\n",
    "print(x_test.shape)"
   ]
  },
  {
   "cell_type": "markdown",
   "metadata": {},
   "source": [
    "## Prediction with decision boundary"
   ]
  },
  {
   "cell_type": "code",
   "execution_count": 19,
   "metadata": {
    "ExecuteTime": {
     "end_time": "2020-10-17T09:31:54.993681Z",
     "start_time": "2020-10-17T09:31:54.990688Z"
    }
   },
   "outputs": [],
   "source": [
    "def predict(weight, x_test, boundary = 0.5):\n",
    "    \"\"\"\n",
    "    # Gives predictions given weight and datapoints \n",
    "    \n",
    "    :param weight: vector weight\n",
    "    :type weight: 1D array\n",
    "    \n",
    "    :param x_test: extended feature matrix\n",
    "    :type x_test: 2D array\n",
    "    \n",
    "    :return: label predictions (0 or 1)\n",
    "    :rtype:  1D numpy array\n",
    "    \n",
    "    \"\"\"\n",
    "    \n",
    "    pred = x_test.dot(weight)\n",
    "    return (pred > boundary)*1\n",
    "    "
   ]
  },
  {
   "cell_type": "markdown",
   "metadata": {},
   "source": [
    "## Ridge Regression on dataset"
   ]
  },
  {
   "cell_type": "code",
   "execution_count": 46,
   "metadata": {
    "ExecuteTime": {
     "end_time": "2020-10-17T09:42:05.277079Z",
     "start_time": "2020-10-17T09:42:05.229206Z"
    }
   },
   "outputs": [
    {
     "name": "stdout",
     "output_type": "stream",
     "text": [
      "[ 3.39876543e-01  2.92215114e-03 -1.25170884e-01 -1.21200506e-01\n",
      "  3.75508083e-03  1.37591143e-02  4.30769267e-02  3.09171484e-03\n",
      "  1.34088164e-01 -1.40882957e-02  2.66338549e-02 -8.71212711e-02\n",
      "  5.88851209e-02  3.77909539e-02  8.54348852e-02  1.65467729e-04\n",
      " -3.54879843e-04  1.27488054e-01 -8.40100689e-04  7.48630428e-04\n",
      "  4.81747423e-02  5.28005644e-04 -2.16649214e-02  1.76743327e-02\n",
      " -2.41109249e-02  2.64536026e-04 -1.22418485e-04 -1.83071720e-02\n",
      "  4.69187461e-04 -2.53235820e-04 -1.67847801e-02]\n",
      "0.0860017342358788\n"
     ]
    }
   ],
   "source": [
    "w, loss = ridge_regression(y_train, x_train,0.004)\n",
    "print(w) # gives an idea about the important columns.. \n",
    "print(loss)"
   ]
  },
  {
   "cell_type": "markdown",
   "metadata": {
    "ExecuteTime": {
     "end_time": "2020-10-17T09:42:57.687146Z",
     "start_time": "2020-10-17T09:42:57.684154Z"
    }
   },
   "source": [
    "##  Cross Validation"
   ]
  },
  {
   "cell_type": "code",
   "execution_count": 139,
   "metadata": {
    "ExecuteTime": {
     "end_time": "2020-10-17T10:24:04.218616Z",
     "start_time": "2020-10-17T10:24:04.210598Z"
    }
   },
   "outputs": [],
   "source": [
    "def build_k_indices(y, k_fold):\n",
    "    \"\"\"build k indices for k-fold.\"\"\"\n",
    "    num_row = y.shape[0]\n",
    "    interval = int(num_row / k_fold)\n",
    "    indices = np.random.permutation(num_row)\n",
    "    k_indices = [indices[k * interval: (k + 1) * interval]\n",
    "                 for k in range(k_fold)]\n",
    "    return np.array(k_indices)\n",
    "\n",
    "def K_Cross_Validation(x, y, K, _lambda):\n",
    "    #Initialization of all needed arrays\n",
    "    test_loss = np.zeros(K)\n",
    "    train_loss = np.zeros(K)\n",
    "    weights = np.zeros((K,x.shape[1]))\n",
    "    accuracy = np.zeros(K)\n",
    "    indices = build_k_indices(y, K)\n",
    "    \n",
    "    for i in range(K):\n",
    "        test_indices = indices[i]\n",
    "        y_test = y[test_indices]\n",
    "        y_train = np.delete(y,test_indices)\n",
    "        x_test = x[test_indices,:]\n",
    "        x_train = np.delete(x,test_indices,axis=0)\n",
    "\n",
    "        ### ADAPT METHOD & LOSS\n",
    "        weights[i], train_loss[i] = ridge_regression(y_train, x_train,_lambda)\n",
    "        test_loss[i] = compute_ridge_loss(y_test,x_test,weights[i],_lambda)\n",
    "        \n",
    "        #Calculate predictions of the model\n",
    "        predictions = predict(weights[i] , x_test)\n",
    "        #Calculate accuracy of the model\n",
    "        accuracy[i] = np.sum(predictions == y_test) / len(y_test)\n",
    "        \n",
    "    return accuracy, test_loss, train_loss, np.mean(weights, axis=0)\n",
    "        "
   ]
  },
  {
   "cell_type": "code",
   "execution_count": 140,
   "metadata": {
    "ExecuteTime": {
     "end_time": "2020-10-17T10:24:04.893747Z",
     "start_time": "2020-10-17T10:24:04.517752Z"
    }
   },
   "outputs": [
    {
     "name": "stdout",
     "output_type": "stream",
     "text": [
      "0.5923995181336806\n"
     ]
    },
    {
     "data": {
      "image/png": "[encoded data removed]",
      "text/plain": [
       "<Figure size 432x288 with 1 Axes>"
      ]
     },
     "metadata": {
      "needs_background": "light"
     },
     "output_type": "display_data"
    }
   ],
   "source": [
    "accs,test_loss, train_loss, w = K_Cross_Validation(x_train,y_train,4,0.001)\n",
    "plt.boxplot(accs)\n",
    "print(acc.mean())"
   ]
  },
  {
   "cell_type": "markdown",
   "metadata": {},
   "source": [
    "## Tune Hyperparameters"
   ]
  },
  {
   "cell_type": "code",
   "execution_count": 148,
   "metadata": {
    "ExecuteTime": {
     "end_time": "2020-10-17T10:26:25.406902Z",
     "start_time": "2020-10-17T10:26:18.180927Z"
    }
   },
   "outputs": [
    {
     "name": "stdout",
     "output_type": "stream",
     "text": [
      "optimal acc = 0.7437155555555555 with lambda= 1e-08\n"
     ]
    }
   ],
   "source": [
    "def Tune_lambda(xt_training, y_training, K, gamma_range):\n",
    "        \n",
    "    gammas = np.linspace(0.00000001, gamma_range, 20)\n",
    "    max_acc = 0\n",
    "    opt_lambda = 0\n",
    "    accuracies = []\n",
    "    train_losses = []\n",
    "    test_losses = []\n",
    "    for i, gamma in enumerate(gammas):\n",
    "       \n",
    "        accuracy,test,train,w = K_Cross_Validation(xt_training, y_training, K,gamma)\n",
    "        accuracies.append([gamma,accuracy.mean()])\n",
    "        train_losses.append([gamma,train.mean()])\n",
    "        test_losses.append([gamma,test.mean()])\n",
    "        if (accuracy.mean() > max_acc):\n",
    "            max_acc = accuracy.mean()\n",
    "            opt_gamma = gamma\n",
    "                \n",
    "    return opt_gamma , max_acc, np.array(accuracies), np.array(train_losses), np.array(test_losses)\n",
    "opt_lambda, max_acc, acc ,train, test= Tune_lambda(x_train, y_train, 5, 1)\n",
    "\n",
    "print(f\"optimal acc = {max_acc} with lambda= {opt_lambda}\")"
   ]
  },
  {
   "cell_type": "code",
   "execution_count": 175,
   "metadata": {
    "ExecuteTime": {
     "end_time": "2020-10-17T11:25:44.728485Z",
     "start_time": "2020-10-17T11:25:44.491846Z"
    }
   },
   "outputs": [
    {
     "data": {
      "image/png": "[encoded data removed]",
      "text/plain": [
       "<Figure size 432x288 with 1 Axes>"
      ]
     },
     "metadata": {
      "needs_background": "light"
     },
     "output_type": "display_data"
    }
   ],
   "source": [
    "\n",
    "#plt.plot(acc[:,0],acc[:,1], label=\"accuracy\")\n",
    "plt.plot(train[:,0],train[:,1],alpha=0.5,label=\"train error\")\n",
    "plt.plot(test[:,0],test[:,1],alpha=0.5, label = \"test eror\")\n",
    "plt.yscale(\"log\")\n",
    "plt.xscale(\"log\")\n",
    "plt.xlabel(\"lambda\")\n",
    "plt.ylabel(\"MSE\")\n",
    "plt.legend(loc=\"upper right\")\n",
    "plt.show()"
   ]
  },
  {
   "cell_type": "markdown",
   "metadata": {},
   "source": [
    "model is clearly **UNDERFITTING**, test and train score are exactly the same and increasing"
   ]
  },
  {
   "cell_type": "markdown",
   "metadata": {},
   "source": [
    "## predictions on test set "
   ]
  },
  {
   "cell_type": "code",
   "execution_count": null,
   "metadata": {},
   "outputs": [],
   "source": []
  },
  {
   "cell_type": "code",
   "execution_count": 158,
   "metadata": {
    "ExecuteTime": {
     "end_time": "2020-10-17T10:28:33.650091Z",
     "start_time": "2020-10-17T10:28:33.605223Z"
    }
   },
   "outputs": [
    {
     "name": "stdout",
     "output_type": "stream",
     "text": [
      "0.74876\n"
     ]
    }
   ],
   "source": [
    "w_opt,loss = ridge_regression(y_train,x_train,opt_lambda)\n",
    "p = predict(w_opt,x_test)\n",
    "print((p==y_test).mean())"
   ]
  },
  {
   "cell_type": "code",
   "execution_count": 163,
   "metadata": {
    "ExecuteTime": {
     "end_time": "2020-10-17T10:32:21.014771Z",
     "start_time": "2020-10-17T10:32:21.009785Z"
    }
   },
   "outputs": [
    {
     "data": {
      "text/plain": [
       "array([ 3.42595549e-01,  4.75398658e-03, -1.27152015e-01, -1.31233070e-01,\n",
       "        1.25109606e-03,  1.27839942e-02,  4.46662143e-02,  3.84240729e-03,\n",
       "        1.41037948e-01, -1.39759723e-02, -9.87030206e-02, -9.34822816e-02,\n",
       "        5.88911070e-02,  3.80991283e-02,  1.10926697e-01,  2.15848420e-04,\n",
       "       -2.91542903e-04,  1.62213617e-01, -8.71809554e-04,  7.34743015e-04,\n",
       "        5.14280226e-02,  4.94734830e-04, -2.30882397e-02,  2.20593829e-02,\n",
       "       -2.35776807e-02,  2.80488044e-04, -1.45172563e-04, -1.75590877e-02,\n",
       "        4.62640959e-04, -2.59382520e-04,  8.52681355e-02])"
      ]
     },
     "execution_count": 163,
     "metadata": {},
     "output_type": "execute_result"
    }
   ],
   "source": [
    "w_opt\n"
   ]
  },
  {
   "cell_type": "code",
   "execution_count": null,
   "metadata": {},
   "outputs": [],
   "source": []
  }
 ],
 "metadata": {
  "kernelspec": {
   "display_name": "ML-project1",
   "language": "python",
   "name": "ml-project1"
  },
  "language_info": {
   "codemirror_mode": {
    "name": "ipython",
    "version": 3
   },
   "file_extension": ".py",
   "mimetype": "text/x-python",
   "name": "python",
   "nbconvert_exporter": "python",
   "pygments_lexer": "ipython3",
   "version": "3.7.5"
  },
  "toc": {
   "base_numbering": 1,
   "nav_menu": {},
   "number_sections": true,
   "sideBar": true,
   "skip_h1_title": false,
   "title_cell": "Table of Contents",
   "title_sidebar": "Contents",
   "toc_cell": false,
   "toc_position": {},
   "toc_section_display": true,
   "toc_window_display": false
  }
 },
 "nbformat": 4,
 "nbformat_minor": 2
}
