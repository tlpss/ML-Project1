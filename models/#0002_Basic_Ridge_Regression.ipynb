{
 "cells": [
  {
   "cell_type": "code",
   "execution_count": 1,
   "metadata": {
    "ExecuteTime": {
     "end_time": "2020-10-21T16:49:20.605073Z",
     "start_time": "2020-10-21T16:49:19.627692Z"
    }
   },
   "outputs": [],
   "source": [
    "import numpy as np\n",
    "import matplotlib.pyplot as plt\n",
    "\n",
    "# add project root folder to path to allow import local modules\n",
    "import os\n",
    "import sys\n",
    "module_path = os.path.abspath(os.path.join('..'))\n",
    "if module_path not in sys.path:\n",
    "    sys.path.append(module_path)\n",
    "# import local modules\n",
    "from helpers import compute_ridge_loss\n",
    "from helpers import *\n",
    "from implementations import *\n",
    "from preprocessing import *"
   ]
  },
  {
   "cell_type": "code",
   "execution_count": 2,
   "metadata": {
    "ExecuteTime": {
     "end_time": "2020-10-21T16:49:20.609066Z",
     "start_time": "2020-10-21T16:49:20.606070Z"
    }
   },
   "outputs": [],
   "source": [
    "np.random.seed(2020)"
   ]
  },
  {
   "cell_type": "markdown",
   "metadata": {},
   "source": [
    "## Load Datasets\n"
   ]
  },
  {
   "cell_type": "code",
   "execution_count": 3,
   "metadata": {
    "ExecuteTime": {
     "end_time": "2020-10-21T16:49:34.252377Z",
     "start_time": "2020-10-21T16:49:20.821502Z"
    }
   },
   "outputs": [],
   "source": [
    "p = Preprocessing(load_csv('../dataset/trainset.csv'))\n",
    "y_train , x_train= p.preprocess()\n",
    "p = Preprocessing(load_csv('../dataset/testset.csv'))\n",
    "y_test, x_test = p.preprocess()"
   ]
  },
  {
   "cell_type": "code",
   "execution_count": 4,
   "metadata": {
    "ExecuteTime": {
     "end_time": "2020-10-21T16:49:34.259167Z",
     "start_time": "2020-10-21T16:49:34.253243Z"
    }
   },
   "outputs": [
    {
     "name": "stdout",
     "output_type": "stream",
     "text": [
      "(225000, 31)\n",
      "(25000, 31)\n"
     ]
    }
   ],
   "source": [
    "print(x_train.shape)\n",
    "print(x_test.shape)"
   ]
  },
  {
   "cell_type": "markdown",
   "metadata": {},
   "source": [
    "## Prediction with decision boundary"
   ]
  },
  {
   "cell_type": "code",
   "execution_count": 5,
   "metadata": {
    "ExecuteTime": {
     "end_time": "2020-10-21T16:49:34.269172Z",
     "start_time": "2020-10-21T16:49:34.261159Z"
    }
   },
   "outputs": [],
   "source": [
    "def predict(weight, x_test, boundary = 0.5):\n",
    "    \"\"\"\n",
    "    # Gives predictions given weight and datapoints \n",
    "    \n",
    "    :param weight: vector weight\n",
    "    :type weight: 1D array\n",
    "    \n",
    "    :param x_test: extended feature matrix\n",
    "    :type x_test: 2D array\n",
    "    \n",
    "    :return: label predictions (0 or 1)\n",
    "    :rtype:  1D numpy array\n",
    "    \n",
    "    \"\"\"\n",
    "    \n",
    "    pred = x_test.dot(weight)\n",
    "    return (pred > boundary)*1\n",
    "    "
   ]
  },
  {
   "cell_type": "markdown",
   "metadata": {},
   "source": [
    "## Ridge Regression on dataset"
   ]
  },
  {
   "cell_type": "code",
   "execution_count": 6,
   "metadata": {
    "ExecuteTime": {
     "end_time": "2020-10-21T16:49:34.326985Z",
     "start_time": "2020-10-21T16:49:34.270135Z"
    }
   },
   "outputs": [
    {
     "name": "stdout",
     "output_type": "stream",
     "text": [
      "[ 3.39876543e-01  2.92215114e-03 -1.25170884e-01 -1.21200506e-01\n",
      "  3.75508083e-03  1.37591143e-02  4.30769267e-02  3.09171484e-03\n",
      "  1.34088164e-01 -1.40882957e-02  2.66338549e-02 -8.71212711e-02\n",
      "  5.88851209e-02  3.77909539e-02  8.54348852e-02  1.65467729e-04\n",
      " -3.54879843e-04  1.27488054e-01 -8.40100689e-04  7.48630428e-04\n",
      "  4.81747423e-02  5.28005644e-04 -2.16649214e-02  1.76743327e-02\n",
      " -2.41109249e-02  2.64536026e-04 -1.22418485e-04 -1.83071720e-02\n",
      "  4.69187461e-04 -2.53235820e-04 -1.67847801e-02]\n",
      "(31,)\n",
      "0.0860017342358788\n"
     ]
    }
   ],
   "source": [
    "w, loss = ridge_regression(y_train, x_train,0.004)\n",
    "print(w) # gives an idea about the important columns.. \n",
    "print(w.shape)\n",
    "print(loss)"
   ]
  },
  {
   "cell_type": "markdown",
   "metadata": {
    "ExecuteTime": {
     "end_time": "2020-10-17T09:42:57.687146Z",
     "start_time": "2020-10-17T09:42:57.684154Z"
    }
   },
   "source": [
    "##  Cross Validation"
   ]
  },
  {
   "cell_type": "code",
   "execution_count": 7,
   "metadata": {
    "ExecuteTime": {
     "end_time": "2020-10-21T16:49:34.336996Z",
     "start_time": "2020-10-21T16:49:34.327981Z"
    }
   },
   "outputs": [],
   "source": [
    "def build_k_indices(y, k_fold):\n",
    "    \"\"\"build k indices for k-fold.\"\"\"\n",
    "    num_row = y.shape[0]\n",
    "    interval = int(num_row / k_fold)\n",
    "    indices = np.random.permutation(num_row)\n",
    "    k_indices = [indices[k * interval: (k + 1) * interval]\n",
    "                 for k in range(k_fold)]\n",
    "    return np.array(k_indices)\n",
    "\n",
    "def K_Cross_Validation(x, y, K, _lambda):\n",
    "    #Initialization of all needed arrays\n",
    "    test_loss = np.zeros(K)\n",
    "    train_loss = np.zeros(K)\n",
    "    weights = np.zeros((K,x.shape[1]))\n",
    "    accuracy = np.zeros(K)\n",
    "    indices = build_k_indices(y, K)\n",
    "    \n",
    "    for i in range(K):\n",
    "        test_indices = indices[i]\n",
    "        y_test = y[test_indices]\n",
    "        y_train = np.delete(y,test_indices)\n",
    "        x_test = x[test_indices,:]\n",
    "        x_train = np.delete(x,test_indices,axis=0)\n",
    "\n",
    "        ### ADAPT METHOD & LOSS\n",
    "        weights[i], train_loss[i] = ridge_regression(y_train, x_train,_lambda)\n",
    "        test_loss[i] = compute_ridge_loss(y_test,x_test,weights[i],_lambda)\n",
    "        \n",
    "        #Calculate predictions of the model\n",
    "        predictions = predict(weights[i] , x_test)\n",
    "        #Calculate accuracy of the model\n",
    "        accuracy[i] = np.sum(predictions == y_test) / len(y_test)\n",
    "        \n",
    "    return accuracy, test_loss, train_loss, np.mean(weights, axis=0)\n",
    "        "
   ]
  },
  {
   "cell_type": "code",
   "execution_count": 8,
   "metadata": {
    "ExecuteTime": {
     "end_time": "2020-10-21T16:49:34.740877Z",
     "start_time": "2020-10-21T16:49:34.337986Z"
    }
   },
   "outputs": [
    {
     "name": "stdout",
     "output_type": "stream",
     "text": [
      "0.7436\n"
     ]
    },
    {
     "data": {
      "image/png": "[encoded data removed]",
      "text/plain": [
       "<Figure size 432x288 with 1 Axes>"
      ]
     },
     "metadata": {
      "needs_background": "light"
     },
     "output_type": "display_data"
    }
   ],
   "source": [
    "accs,test_loss, train_loss, w = K_Cross_Validation(x_train,y_train,4,0.001)\n",
    "plt.boxplot(accs)\n",
    "print(accs.mean())"
   ]
  },
  {
   "cell_type": "markdown",
   "metadata": {},
   "source": [
    "## Tune Hyperparameters"
   ]
  },
  {
   "cell_type": "code",
   "execution_count": 9,
   "metadata": {
    "ExecuteTime": {
     "end_time": "2020-10-21T16:49:41.896781Z",
     "start_time": "2020-10-21T16:49:34.741874Z"
    }
   },
   "outputs": [
    {
     "name": "stdout",
     "output_type": "stream",
     "text": [
      "optimal loss = 0.08518125969150192 with lambda= 3.359818286283781e-05\n",
      "accuracy = 0.7438355555555556\n"
     ]
    }
   ],
   "source": [
    "def Tune_lambda(xt_training, y_training, K, gamma_range):\n",
    "        \n",
    "    gammas = np.logspace(-7, gamma_range, 20)\n",
    "    min_loss = np.inf\n",
    "    opt_lambda = 0\n",
    "    opt_index = 0\n",
    "    accuracies = []\n",
    "    train_losses = []\n",
    "    test_losses = []\n",
    "    for i, lambda_ in enumerate(gammas):\n",
    "       \n",
    "        accuracy,test,train,w = K_Cross_Validation(xt_training, y_training, K,lambda_)\n",
    "        accuracies.append([lambda_,accuracy.mean()])\n",
    "        train_losses.append([lambda_,train.mean()])\n",
    "        test_losses.append([lambda_,test.mean()])\n",
    "        if (test.mean() < min_loss):\n",
    "            min_loss = test.mean()\n",
    "            opt_lambda = lambda_\n",
    "            opt_index = i\n",
    "                \n",
    "    return opt_lambda , min_loss, np.array(accuracies), np.array(train_losses), np.array(test_losses), opt_index\n",
    "opt_lambda, min_loss, acc ,train, test, opt_index= Tune_lambda(x_train, y_train, 5, &)\n",
    "\n",
    "print(f\"optimal loss = {min_loss} with lambda= {opt_lambda}\")\n",
    "print(f\"accuracy = {acc[opt_index][1]}\")"
   ]
  },
  {
   "cell_type": "code",
   "execution_count": 20,
   "metadata": {
    "ExecuteTime": {
     "end_time": "2020-10-21T16:52:55.267800Z",
     "start_time": "2020-10-21T16:52:54.974618Z"
    }
   },
   "outputs": [
    {
     "data": {
      "image/png": "[encoded data removed]",
      "text/plain": [
       "<Figure size 432x288 with 1 Axes>"
      ]
     },
     "metadata": {
      "needs_background": "light"
     },
     "output_type": "display_data"
    }
   ],
   "source": [
    "\n",
    "#plt.plot(acc[:,0],acc[:,1], label=\"accuracy\")\n",
    "plt.plot(train[:,0],train[:,1],alpha=0.5,label=\"train error\")\n",
    "plt.plot(test[:,0],test[:,1],alpha=0.5, label = \"test eror\")\n",
    "plt.yscale(\"log\")\n",
    "plt.xscale(\"log\")\n",
    "plt.xlabel(\"lambda\")\n",
    "plt.ylabel(\"MSE\")\n",
    "plt.legend(loc=\"upper right\")\n",
    "plt.show()"
   ]
  },
  {
   "cell_type": "code",
   "execution_count": 24,
   "metadata": {
    "ExecuteTime": {
     "end_time": "2020-10-21T16:53:30.878206Z",
     "start_time": "2020-10-21T16:53:30.476226Z"
    }
   },
   "outputs": [
    {
     "data": {
      "image/png": "[encoded data removed]",
      "text/plain": [
       "<Figure size 432x288 with 1 Axes>"
      ]
     },
     "metadata": {
      "needs_background": "light"
     },
     "output_type": "display_data"
    }
   ],
   "source": [
    "plt.scatter(acc[:,0],acc[:,1])\n",
    "plt.xscale('log')\n",
    "plt.xlim(10**(-7),1)\n",
    "plt.xlabel(\"lambda\")\n",
    "plt.ylabel('accuracy')\n",
    "plt.show()"
   ]
  },
  {
   "cell_type": "markdown",
   "metadata": {},
   "source": [
    "model is clearly **UNDERFITTING**, test and train score are exactly the same and increasing"
   ]
  },
  {
   "cell_type": "markdown",
   "metadata": {},
   "source": [
    "## predictions on test set "
   ]
  },
  {
   "cell_type": "code",
   "execution_count": null,
   "metadata": {},
   "outputs": [],
   "source": []
  },
  {
   "cell_type": "code",
   "execution_count": 27,
   "metadata": {
    "ExecuteTime": {
     "end_time": "2020-10-21T16:53:53.556717Z",
     "start_time": "2020-10-21T16:53:53.512833Z"
    }
   },
   "outputs": [
    {
     "data": {
      "text/plain": [
       "array([ 3.42572536e-01,  4.73686739e-03, -1.27134922e-01, -1.31142411e-01,\n",
       "        1.27270809e-03,  1.27927828e-02,  4.46520872e-02,  3.83596537e-03,\n",
       "        1.40975756e-01, -1.39771487e-02,  2.59520964e-02, -9.34235634e-02,\n",
       "        5.88911358e-02,  3.80965212e-02,  8.67854877e-02,  2.15400545e-04,\n",
       "       -2.92120079e-04,  1.38342689e-01, -8.71556012e-04,  7.34870526e-04,\n",
       "        5.13995378e-02,  4.95029554e-04, -2.30763548e-02,  2.20059796e-02,\n",
       "       -2.35917675e-02,  2.80353373e-04, -1.44963098e-04, -1.75703349e-02,\n",
       "        4.62717879e-04, -2.59336839e-04, -2.02642672e-02])"
      ]
     },
     "execution_count": 27,
     "metadata": {},
     "output_type": "execute_result"
    }
   ],
   "source": [
    "opt_w,loss = ridge_regression(y_train,x_train,opt_lambda)\n",
    "opt_w"
   ]
  },
  {
   "cell_type": "code",
   "execution_count": 31,
   "metadata": {
    "ExecuteTime": {
     "end_time": "2020-10-21T16:54:33.188482Z",
     "start_time": "2020-10-21T16:54:33.172511Z"
    }
   },
   "outputs": [
    {
     "name": "stdout",
     "output_type": "stream",
     "text": [
      "decision boundary=0.3\n",
      "\tconfusion matrix: \n",
      " [[0.60461717 0.39538283]\n",
      " [0.1316556  0.8683444 ]]\n",
      "\taccuracy=0.69516\n",
      "decision boundary=0.4\n",
      "\tconfusion matrix: \n",
      " [[0.75464458 0.24535542]\n",
      " [0.28230223 0.71769777]]\n",
      "\taccuracy=0.74196\n",
      "decision boundary=0.5\n",
      "\tconfusion matrix: \n",
      " [[0.88048974 0.11951026]\n",
      " [0.50297099 0.49702901]]\n",
      "\taccuracy=0.74884\n",
      "decision boundary=0.55\n",
      "\tconfusion matrix: \n",
      " [[0.92251934 0.07748066]\n",
      " [0.62320867 0.37679133]]\n",
      "\taccuracy=0.73516\n",
      "decision boundary=0.6\n",
      "\tconfusion matrix: \n",
      " [[0.95321922 0.04678078]\n",
      " [0.72806711 0.27193289]]\n",
      "\taccuracy=0.71932\n",
      "decision boundary=0.65\n",
      "\tconfusion matrix: \n",
      " [[0.97356399 0.02643601]\n",
      " [0.80741    0.19259   ]]\n",
      "\taccuracy=0.70544\n",
      "decision boundary=0.7\n",
      "\tconfusion matrix: \n",
      " [[0.98373637 0.01626363]\n",
      " [0.86554818 0.13445182]]\n",
      "\taccuracy=0.69216\n"
     ]
    }
   ],
   "source": [
    "for b in [0.3,0.4,0.5,0.55,0.6,0.65,0.7]:\n",
    "    p = predict(opt_w,x_test,b)\n",
    "    print(f\"decision boundary={b}\")\n",
    "    print(f\"\\tconfusion matrix: \\n {confusion_matrix(y_test,p)}\")\n",
    "    print(f\"\\taccuracy={(p==y_test).mean()}\")"
   ]
  },
  {
   "cell_type": "code",
   "execution_count": null,
   "metadata": {},
   "outputs": [],
   "source": []
  }
 ],
 "metadata": {
  "kernelspec": {
   "display_name": "ML-project1",
   "language": "python",
   "name": "ml-project1"
  },
  "language_info": {
   "codemirror_mode": {
    "name": "ipython",
    "version": 3
   },
   "file_extension": ".py",
   "mimetype": "text/x-python",
   "name": "python",
   "nbconvert_exporter": "python",
   "pygments_lexer": "ipython3",
   "version": "3.7.5"
  },
  "toc": {
   "base_numbering": 1,
   "nav_menu": {},
   "number_sections": true,
   "sideBar": true,
   "skip_h1_title": false,
   "title_cell": "Table of Contents",
   "title_sidebar": "Contents",
   "toc_cell": false,
   "toc_position": {},
   "toc_section_display": true,
   "toc_window_display": false
  }
 },
 "nbformat": 4,
 "nbformat_minor": 2
}
