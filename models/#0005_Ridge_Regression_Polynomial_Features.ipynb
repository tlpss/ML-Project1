{
 "cells": [
  {
   "cell_type": "code",
   "execution_count": 1,
   "metadata": {
    "ExecuteTime": {
     "end_time": "2020-10-26T08:09:18.782997Z",
     "start_time": "2020-10-26T08:09:17.765613Z"
    }
   },
   "outputs": [],
   "source": [
    "import numpy as np\n",
    "import matplotlib.pyplot as plt\n",
    "\n",
    "# add project root folder to path to allow import local modules\n",
    "import os\n",
    "import sys\n",
    "module_path = os.path.abspath(os.path.join('..'))\n",
    "if module_path not in sys.path:\n",
    "    sys.path.append(module_path)\n",
    "# import local modules\n",
    "from helpers import compute_ridge_loss\n",
    "from helpers import *\n",
    "from implementations import *\n",
    "from preprocessing import *"
   ]
  },
  {
   "cell_type": "code",
   "execution_count": 2,
   "metadata": {
    "ExecuteTime": {
     "end_time": "2020-10-26T08:09:18.787881Z",
     "start_time": "2020-10-26T08:09:18.783890Z"
    }
   },
   "outputs": [],
   "source": [
    "np.random.seed(2020)"
   ]
  },
  {
   "cell_type": "code",
   "execution_count": 3,
   "metadata": {
    "ExecuteTime": {
     "end_time": "2020-10-26T08:09:18.795859Z",
     "start_time": "2020-10-26T08:09:18.788876Z"
    }
   },
   "outputs": [],
   "source": [
    "DEGREES = 9"
   ]
  },
  {
   "cell_type": "markdown",
   "metadata": {},
   "source": [
    "## Make custom pipeline to create polynomial expansion of the features"
   ]
  },
  {
   "cell_type": "code",
   "execution_count": 4,
   "metadata": {
    "ExecuteTime": {
     "end_time": "2020-10-26T08:09:20.234597Z",
     "start_time": "2020-10-26T08:09:20.225621Z"
    }
   },
   "outputs": [],
   "source": [
    "class PolyPreprocessing(Preprocessing):\n",
    "    def __init__(self,dataset):\n",
    "        super().__init__(dataset)\n",
    "        self.degree = None\n",
    "        self.cross_degree = None\n",
    "        \n",
    "    def set_degrees(self,degree, cross_degree):\n",
    "        self.degree = degree\n",
    "        self.cross_degree = cross_degree\n",
    "        \n",
    "    def _feature_engineering(self):\n",
    "        super()._feature_engineering() # to create pipeline\n",
    "        \n",
    "        dataset =self.dataset\n",
    "        \n",
    "        for deg in range(2,self.degree+1):\n",
    "            self.dataset = np.concatenate((self.dataset, np.power(dataset,deg)),axis=1)\n",
    "        \n",
    "        if (self.cross_degree):\n",
    "            for col_i in range(dataset.shape[1]):\n",
    "                print(col_i)\n",
    "                for col_j in range(col_i+1,dataset.shape[1]):\n",
    "                    col = dataset[:,col_i]*dataset[:,col_j]\n",
    "                    self.dataset = np.concatenate((self.dataset,col.reshape((-1,1))),axis=1)\n",
    "\n",
    "                    \n",
    "class AddFeaturesPolyPreprocessing(PolyPreprocessing):\n",
    "    def __init__(self,dataset):\n",
    "        super().__init__(dataset)\n",
    "    def _feature_engineering(self):\n",
    "        super()._feature_engineering()\n",
    "        X = np.array(self.original_dataset.tolist()) # make unstructured, not very efficient..\n",
    "        X = X[:,2:] # remove IDs and '?' of predictions\n",
    "        col = X[:,1]\n",
    "        f1 = col = 1-np.exp(-col**2/5000).reshape((-1,1))\n",
    "        self.dataset = np.concatenate((self.dataset,f1),axis=1)      \n"
   ]
  },
  {
   "cell_type": "markdown",
   "metadata": {},
   "source": [
    "## Load Datasets\n"
   ]
  },
  {
   "cell_type": "code",
   "execution_count": 11,
   "metadata": {
    "ExecuteTime": {
     "end_time": "2020-10-26T08:14:11.980190Z",
     "start_time": "2020-10-26T08:14:01.099040Z"
    }
   },
   "outputs": [],
   "source": [
    "p_train = AddFeaturesPolyPreprocessing(load_csv('../dataset/trainset.csv'))\n",
    "p_test = AddFeaturesPolyPreprocessing(load_csv('../dataset/testset.csv'))\n"
   ]
  },
  {
   "cell_type": "code",
   "execution_count": 12,
   "metadata": {
    "ExecuteTime": {
     "end_time": "2020-10-26T08:18:08.987186Z",
     "start_time": "2020-10-26T08:14:11.981145Z"
    }
   },
   "outputs": [
    {
     "name": "stdout",
     "output_type": "stream",
     "text": [
      "0\n",
      "1\n",
      "2\n",
      "3\n",
      "4\n",
      "5\n",
      "6\n",
      "7\n",
      "8\n",
      "9\n",
      "10\n",
      "11\n",
      "12\n",
      "13\n",
      "14\n",
      "15\n",
      "16\n",
      "17\n",
      "18\n",
      "19\n",
      "20\n",
      "21\n",
      "22\n",
      "23\n",
      "24\n",
      "25\n",
      "26\n",
      "27\n",
      "28\n",
      "29\n",
      "0\n",
      "1\n",
      "2\n",
      "3\n",
      "4\n",
      "5\n",
      "6\n",
      "7\n",
      "8\n",
      "9\n",
      "10\n",
      "11\n",
      "12\n",
      "13\n",
      "14\n",
      "15\n",
      "16\n",
      "17\n",
      "18\n",
      "19\n",
      "20\n",
      "21\n",
      "22\n",
      "23\n",
      "24\n",
      "25\n",
      "26\n",
      "27\n",
      "28\n",
      "29\n"
     ]
    }
   ],
   "source": [
    "p_train.set_degrees(DEGREES,1)\n",
    "p_test.set_degrees(DEGREES,1)\n",
    "y_train , x_train= p_train.preprocess()\n",
    "y_test, x_test = p_test.preprocess()"
   ]
  },
  {
   "cell_type": "code",
   "execution_count": 6,
   "metadata": {
    "ExecuteTime": {
     "end_time": "2020-10-26T08:10:54.713393Z",
     "start_time": "2020-10-26T08:10:53.203317Z"
    }
   },
   "outputs": [],
   "source": [
    "import pickle\n",
    "#x_train = pickle.load(open( f\"0005_deg{DEGREES}_x_train.p\", \"rb\" ) )\n",
    "#x_test = pickle.load( open( f\"0005_deg{DEGREES}_x_test.p\", \"rb\" ) )\n",
    "#y_train = pickle.load(open( f\"0005_deg{DEGREES}_y_train.p\", \"rb\" ) )\n",
    "#y_test = pickle.load( open( f\"0005_deg{DEGREES}_y_test.p\", \"rb\" ) )\n",
    "#tx = pickle.load( open(f\"0005_deg12_x_predict.p\",\"rb\"))"
   ]
  },
  {
   "cell_type": "code",
   "execution_count": 13,
   "metadata": {
    "ExecuteTime": {
     "end_time": "2020-10-26T08:18:30.675962Z",
     "start_time": "2020-10-26T08:18:30.670976Z"
    }
   },
   "outputs": [
    {
     "name": "stdout",
     "output_type": "stream",
     "text": [
      "(225000, 707)\n",
      "(25000, 707)\n"
     ]
    }
   ],
   "source": [
    "print(x_train.shape)\n",
    "print(x_test.shape)"
   ]
  },
  {
   "cell_type": "markdown",
   "metadata": {},
   "source": [
    "## Prediction with decision boundary"
   ]
  },
  {
   "cell_type": "code",
   "execution_count": 14,
   "metadata": {
    "ExecuteTime": {
     "end_time": "2020-10-26T08:18:33.659735Z",
     "start_time": "2020-10-26T08:18:33.654669Z"
    }
   },
   "outputs": [],
   "source": [
    "def predict(weight, x_test, boundary = 0.5):\n",
    "    \"\"\"\n",
    "    # Gives predictions given weight and datapoints \n",
    "    \n",
    "    :param weight: vector weight\n",
    "    :type weight: 1D array\n",
    "    \n",
    "    :param x_test: extended feature matrix\n",
    "    :type x_test: 2D array\n",
    "    \n",
    "    :return: label predictions (0 or 1)\n",
    "    :rtype:  1D numpy array\n",
    "    \n",
    "    \"\"\"\n",
    "    \n",
    "    pred = x_test.dot(weight)\n",
    "    return (pred > boundary)*1\n",
    "    "
   ]
  },
  {
   "cell_type": "markdown",
   "metadata": {},
   "source": [
    "## Ridge Regression on dataset"
   ]
  },
  {
   "cell_type": "code",
   "execution_count": 15,
   "metadata": {
    "ExecuteTime": {
     "end_time": "2020-10-26T08:18:35.925602Z",
     "start_time": "2020-10-26T08:18:34.440568Z"
    }
   },
   "outputs": [
    {
     "name": "stdout",
     "output_type": "stream",
     "text": [
      "0.1712540997601487\n"
     ]
    }
   ],
   "source": [
    "w, loss = ridge_regression(y_train, x_train,0.004)\n",
    "#print(w) # gives an idea about the important columns.. \n",
    "print(loss)"
   ]
  },
  {
   "cell_type": "markdown",
   "metadata": {
    "ExecuteTime": {
     "end_time": "2020-10-17T09:42:57.687146Z",
     "start_time": "2020-10-17T09:42:57.684154Z"
    }
   },
   "source": [
    "##  Cross Validation"
   ]
  },
  {
   "cell_type": "code",
   "execution_count": 11,
   "metadata": {
    "ExecuteTime": {
     "end_time": "2020-10-18T15:00:03.866396Z",
     "start_time": "2020-10-18T15:00:03.855427Z"
    }
   },
   "outputs": [],
   "source": [
    "def build_k_indices(y, k_fold):\n",
    "    \"\"\"build k indices for k-fold.\"\"\"\n",
    "    num_row = y.shape[0]\n",
    "    interval = int(num_row / k_fold)\n",
    "    indices = np.random.permutation(num_row)\n",
    "    k_indices = [indices[k * interval: (k + 1) * interval]\n",
    "                 for k in range(k_fold)]\n",
    "    return np.array(k_indices)\n",
    "\n",
    "def K_Cross_Validation(x, y, K, _lambda):\n",
    "    #Initialization of all needed arrays\n",
    "    test_loss = np.zeros(K)\n",
    "    train_loss = np.zeros(K)\n",
    "    weights = np.zeros((K,x.shape[1]))\n",
    "    accuracy = np.zeros(K)\n",
    "    indices = build_k_indices(y, K)\n",
    "    \n",
    "    for i in range(K):\n",
    "        test_indices = indices[i]\n",
    "        y_test = y[test_indices]\n",
    "        y_train = np.delete(y,test_indices)\n",
    "        x_test = x[test_indices,:]\n",
    "        x_train = np.delete(x,test_indices,axis=0)\n",
    "        ### ADAPT METHOD & LOSS\n",
    "        weights[i], train_loss[i] = ridge_regression(y_train, x_train,_lambda)\n",
    "        test_loss[i] = compute_ridge_loss(y_test,x_test,weights[i],_lambda)\n",
    "        \n",
    "        #Calculate predictions of the model\n",
    "        predictions = predict(weights[i] , x_test)\n",
    "        #Calculate accuracy of the model\n",
    "        accuracy[i] = np.sum(predictions == y_test) / len(y_test)\n",
    "        \n",
    "    return accuracy, test_loss, train_loss, np.mean(weights, axis=0)\n",
    "        "
   ]
  },
  {
   "cell_type": "code",
   "execution_count": 12,
   "metadata": {
    "ExecuteTime": {
     "end_time": "2020-10-18T15:00:10.616318Z",
     "start_time": "2020-10-18T15:00:03.868392Z"
    }
   },
   "outputs": [
    {
     "name": "stdout",
     "output_type": "stream",
     "text": [
      "0.8241822222222223\n",
      "[2.28098273e+02 1.11581172e+04 4.95482703e+15 8.20596209e-02]\n",
      "[0.06687771 0.06615934 0.06627536 0.06607303]\n"
     ]
    },
    {
     "data": {
      "image/png": "[encoded data removed]",
      "text/plain": [
       "<Figure size 432x288 with 1 Axes>"
      ]
     },
     "metadata": {
      "needs_background": "light"
     },
     "output_type": "display_data"
    }
   ],
   "source": [
    "accs,test_loss, train_loss, w = K_Cross_Validation(x_train,y_train,4,0.001)\n",
    "plt.boxplot(accs)\n",
    "print(accs.mean())\n",
    "print(test_loss)\n",
    "print(train_loss)"
   ]
  },
  {
   "cell_type": "markdown",
   "metadata": {},
   "source": [
    "## Tune Hyperparameters"
   ]
  },
  {
   "cell_type": "code",
   "execution_count": 13,
   "metadata": {
    "ExecuteTime": {
     "end_time": "2020-10-18T15:01:50.713442Z",
     "start_time": "2020-10-18T15:00:10.617261Z"
    }
   },
   "outputs": [
    {
     "name": "stdout",
     "output_type": "stream",
     "text": [
      "optimal acc = 0.7478444444444444 with lambda= 1.2915496650148828\n"
     ]
    }
   ],
   "source": [
    "def Tune_lambda(xt_training, y_training, K, gamma_range):\n",
    "        \n",
    "    lambdas = np.logspace(-7, gamma_range, 10)\n",
    "    max_acc = 0\n",
    "    min_loss = np.inf\n",
    "    opt_lambda = 0\n",
    "    accuracies = []\n",
    "    train_losses = []\n",
    "    test_losses = []\n",
    "    for i, lambda_ in enumerate(lambdas):\n",
    "       \n",
    "        accuracy,test,train,w = K_Cross_Validation(xt_training, y_training, K,lambda_)\n",
    "        accuracies.append([lambda_,np.median(accuracy)])\n",
    "        train_losses.append([lambda_,np.median(train)])\n",
    "        test_losses.append([lambda_,np.median(test)])\n",
    "        if (np.median(test) < min_loss):\n",
    "            min_loss = np.median(test)\n",
    "            max_acc = np.median(accuracy)\n",
    "            opt_lambda = lambda_\n",
    "                \n",
    "    return opt_lambda , max_acc, np.array(accuracies), np.array(train_losses), np.array(test_losses)\n",
    "opt_lambda, max_acc, acc ,train, test= Tune_lambda(x_train, y_train, 5, 1)\n",
    "\n",
    "print(f\"optimal acc = {max_acc} with lambda= {opt_lambda}\")"
   ]
  },
  {
   "cell_type": "code",
   "execution_count": 14,
   "metadata": {
    "ExecuteTime": {
     "end_time": "2020-10-18T15:01:51.375638Z",
     "start_time": "2020-10-18T15:01:50.714443Z"
    }
   },
   "outputs": [
    {
     "data": {
      "image/png": "[encoded data removed]",
      "text/plain": [
       "<Figure size 432x288 with 1 Axes>"
      ]
     },
     "metadata": {
      "needs_background": "light"
     },
     "output_type": "display_data"
    }
   ],
   "source": [
    "\n",
    "plt.plot(acc[:,0],acc[:,1], label=\"accuracy\")\n",
    "plt.plot(train[:,0],train[:,1],alpha=0.5,label=\"train error\")\n",
    "plt.plot(test[:,0],test[:,1],alpha=0.5, label = \"test eror\")\n",
    "plt.yscale(\"log\")\n",
    "plt.xscale(\"log\")\n",
    "plt.xlabel(\"lambda\")\n",
    "plt.ylabel(\"MSE/accuracy\")\n",
    "plt.legend(loc=\"upper right\")\n",
    "plt.show()"
   ]
  },
  {
   "cell_type": "markdown",
   "metadata": {},
   "source": [
    "model is clearly overfitting, needs to be fixed"
   ]
  },
  {
   "cell_type": "markdown",
   "metadata": {},
   "source": [
    "## predictions on test set "
   ]
  },
  {
   "cell_type": "code",
   "execution_count": null,
   "metadata": {},
   "outputs": [],
   "source": []
  },
  {
   "cell_type": "code",
   "execution_count": 16,
   "metadata": {
    "ExecuteTime": {
     "end_time": "2020-10-26T08:18:47.245652Z",
     "start_time": "2020-10-26T08:18:45.747657Z"
    }
   },
   "outputs": [
    {
     "name": "stdout",
     "output_type": "stream",
     "text": [
      "0.65668\n",
      "0.17125409976347072\n"
     ]
    }
   ],
   "source": [
    "w_opt,loss = ridge_regression(y_train,x_train,0.00001)\n",
    "p = predict(w_opt,x_test)\n",
    "print((p==y_test).mean())\n",
    "print(loss)"
   ]
  },
  {
   "cell_type": "markdown",
   "metadata": {
    "ExecuteTime": {
     "end_time": "2020-10-17T11:47:42.516485Z",
     "start_time": "2020-10-17T11:47:42.512498Z"
    }
   },
   "source": [
    "## create submission file\n"
   ]
  },
  {
   "cell_type": "code",
   "execution_count": 16,
   "metadata": {
    "ExecuteTime": {
     "end_time": "2020-10-18T15:11:32.494046Z",
     "start_time": "2020-10-18T15:01:53.103019Z"
    }
   },
   "outputs": [
    {
     "name": "stdout",
     "output_type": "stream",
     "text": [
      "prediction data\n",
      "0\n",
      "1\n",
      "2\n",
      "3\n",
      "4\n",
      "5\n",
      "6\n",
      "7\n",
      "8\n",
      "9\n",
      "10\n",
      "11\n",
      "12\n",
      "13\n",
      "14\n",
      "15\n",
      "16\n",
      "17\n",
      "18\n",
      "19\n",
      "20\n",
      "21\n",
      "22\n",
      "23\n",
      "24\n",
      "25\n",
      "26\n",
      "27\n",
      "28\n",
      "29\n"
     ]
    }
   ],
   "source": [
    "p = AddFeaturesPolyPreprocessing(load_csv('../dataset/test.csv'))\n",
    "p.set_degrees(DEGREES,1)\n",
    "ids, tx = p.preprocess(labeled=False)"
   ]
  },
  {
   "cell_type": "code",
   "execution_count": 26,
   "metadata": {
    "ExecuteTime": {
     "end_time": "2020-10-18T15:27:19.320675Z",
     "start_time": "2020-10-18T15:27:19.127159Z"
    }
   },
   "outputs": [],
   "source": [
    "p = predict(w_opt,tx)\n"
   ]
  },
  {
   "cell_type": "code",
   "execution_count": 27,
   "metadata": {
    "ExecuteTime": {
     "end_time": "2020-10-18T15:27:23.737074Z",
     "start_time": "2020-10-18T15:27:21.771329Z"
    }
   },
   "outputs": [],
   "source": [
    "create_csv_submission(ids, p, f\"model_0005_deg{DEGREES}.csv\")"
   ]
  },
  {
   "cell_type": "markdown",
   "metadata": {},
   "source": [
    "## store dataset in pickle\n"
   ]
  },
  {
   "cell_type": "code",
   "execution_count": 17,
   "metadata": {
    "ExecuteTime": {
     "end_time": "2020-10-26T08:21:35.710814Z",
     "start_time": "2020-10-26T08:21:33.756042Z"
    }
   },
   "outputs": [],
   "source": [
    "#import pickle\n",
    "#pickle.dump( x_train, open( f\"0005_deg{DEGREES}_x_train.p\", \"wb\" ) )\n",
    "#pickle.dump( x_test, open( f\"0005_deg{DEGREES}_x_test.p\", \"wb\" ) )\n",
    "#pickle.dump( y_train, open( f\"0005_deg{DEGREES}_y_train.p\", \"wb\" ) )\n",
    "#pickle.dump( y_test, open( f\"0005_deg{DEGREES}_y_test.p\", \"wb\" ) )\n",
    "#pickle.dump( tx, open(f\"0005_deg{DEGREES}_x_predict.p\",\"wb\"))\n",
    "\n"
   ]
  },
  {
   "cell_type": "code",
   "execution_count": 20,
   "metadata": {
    "ExecuteTime": {
     "end_time": "2020-10-18T15:11:47.405268Z",
     "start_time": "2020-10-18T15:11:47.318426Z"
    }
   },
   "outputs": [
    {
     "data": {
      "text/plain": [
       "array([ 1.14497101e-02,  7.67147305e-03, -1.87827798e-02,  5.06321136e-03,\n",
       "        1.22348737e-03,  8.00750698e-04,  4.51566585e-04, -1.80112984e-03,\n",
       "        6.48436652e-03, -2.69642409e-03,  4.17529352e-04, -1.41904634e-02,\n",
       "        2.84216697e-03,  1.64700587e-03,  1.40496968e-02, -2.32125942e-04,\n",
       "       -3.17567588e-04, -1.59139551e-03, -2.44255801e-05,  6.51599424e-04,\n",
       "       -6.16484063e-03,  1.11913165e-04,  4.29184893e-04, -4.88920169e-03,\n",
       "        1.27356533e-03, -1.87134530e-04, -1.71785857e-04,  8.98748998e-04,\n",
       "       -2.54765762e-06, -7.00000937e-05, -2.35970660e-03, -9.71862657e-03,\n",
       "        8.37943752e-03, -7.81565456e-03,  6.77748361e-03,  1.40939945e-03,\n",
       "        1.19917976e-03, -2.06608628e-04,  3.61527436e-03,  4.35291519e-03,\n",
       "        1.49185470e-03,  7.73251990e-03,  9.27605245e-03,  4.03535650e-04,\n",
       "        4.59870151e-03,  2.97729154e-03,  7.22337978e-03,  3.26221006e-03,\n",
       "        2.26833819e-03,  8.09967153e-03,  8.22324850e-03,  7.49346543e-03,\n",
       "        6.57560183e-04,  5.47854126e-03,  9.66082762e-04,  7.30151881e-03,\n",
       "        5.60546888e-03, -8.49812835e-04,  1.73778873e-03,  7.62953562e-04,\n",
       "        2.88502384e-03, -2.54849218e-03, -1.71265692e-02, -3.11947824e-03,\n",
       "        1.78363398e-03,  3.21494423e-04, -8.44076460e-04, -3.55580111e-03,\n",
       "        4.63902813e-03, -1.33891798e-03, -1.03754795e-04, -1.43615656e-02,\n",
       "        2.29126452e-03,  2.30552561e-03,  8.09271874e-03, -1.76114310e-04,\n",
       "       -8.23367159e-05, -5.42104603e-04, -1.65590279e-05,  4.21103817e-04,\n",
       "       -6.38374784e-03,  9.93466313e-05, -7.39057746e-05, -4.99455567e-03,\n",
       "        1.74051376e-03, -1.52721499e-04, -1.46005055e-04,  2.09289713e-03,\n",
       "        3.11982857e-05, -7.18220845e-05, -3.55028716e-03, -9.67534590e-04,\n",
       "        1.89470013e-02,  2.36548746e-03,  3.90634797e-03,  2.45683472e-03,\n",
       "        2.53444674e-03, -4.20845784e-04, -1.19954446e-03,  6.65036270e-04,\n",
       "       -1.37031255e-03,  5.64787582e-03,  9.62256702e-03,  3.17295795e-04,\n",
       "       -2.18114245e-03,  8.28359074e-04,  6.71670342e-03,  7.39638302e-04,\n",
       "       -7.77113479e-05,  7.71317315e-03,  3.28438483e-05,  6.92867066e-03,\n",
       "       -2.86970924e-03,  5.56498016e-03, -1.44990270e-03,  9.47292878e-03,\n",
       "        6.16737932e-03, -6.89651394e-04,  4.24912808e-03,  1.43886364e-03,\n",
       "       -7.80092273e-05,  8.66749849e-04, -6.72080363e-03, -4.27656658e-04,\n",
       "       -2.14181245e-03, -2.07006886e-03, -1.00733040e-03,  1.82035235e-04,\n",
       "        3.38610372e-03, -1.13062304e-04,  6.80972733e-05, -1.21528430e-03,\n",
       "        2.26366383e-03,  2.79989636e-03,  2.77925149e-05, -6.14843845e-05,\n",
       "        7.05107081e-05, -3.38516464e-04, -3.60417416e-05,  1.87840893e-04,\n",
       "        2.54095089e-04,  1.29858947e-04,  1.11471540e-03, -4.90715436e-03,\n",
       "        4.09058739e-04,  1.60498538e-05, -1.15743326e-04,  9.56570775e-05,\n",
       "       -4.61194281e-05, -4.52477653e-05,  2.26433153e-04, -1.68575877e-04,\n",
       "        1.11189129e-03,  3.66210601e-05,  4.56479193e-04, -1.04601631e-05,\n",
       "        1.61593010e-04,  3.21177854e-06, -3.95952696e-03,  7.62073312e-06,\n",
       "        1.50211138e-04,  1.46829837e-04,  1.06216363e-02, -9.30428673e-04,\n",
       "        3.71523195e-05, -8.01225814e-04,  5.41869119e-03,  5.56313998e-05,\n",
       "       -1.71099635e-03,  6.27253470e-03, -3.31597274e-05,  5.48523620e-03,\n",
       "       -1.44719535e-04,  5.80179578e-03, -7.25092883e-05,  4.59600674e-05,\n",
       "        5.09915177e-03, -6.79454904e-06, -3.03736337e-04, -2.88859542e-05,\n",
       "       -6.81944387e-05,  1.43724871e-05, -9.43145723e-05, -1.65656034e-06,\n",
       "       -5.62128148e-05,  2.14060712e-04, -1.26585478e-05, -1.82520148e-06,\n",
       "        1.13204651e-04, -1.92042841e-07, -3.50470375e-05, -9.74540630e-06,\n",
       "        2.40031687e-03,  5.17242212e-04, -4.00688991e-06,  1.24015411e-04,\n",
       "        1.48233385e-04, -4.15474302e-06, -7.90129383e-05, -9.62145644e-05,\n",
       "        1.24830278e-06,  1.48907461e-04,  5.16655909e-06, -4.51643144e-03,\n",
       "        8.60212614e-06,  1.02965921e-05, -4.04731226e-05,  2.57708459e-07,\n",
       "        8.61110749e-06,  7.13477242e-06,  1.04210004e-05, -5.73555896e-07,\n",
       "        3.96792997e-06,  3.80695722e-08,  4.13899841e-06, -4.28516862e-05,\n",
       "        4.82511464e-07, -6.22377256e-08,  5.82139998e-04,  2.91150255e-10,\n",
       "        2.90037321e-06,  3.29857269e-07,  1.19390095e-02,  2.00152448e-04,\n",
       "        1.57621255e-07, -1.70833846e-04, -1.54268723e-03,  1.42582882e-07,\n",
       "       -8.41267599e-05, -1.82981930e-03,  9.97544055e-09, -1.91521524e-03,\n",
       "        2.09164551e-07,  6.66350351e-03, -5.64905032e-07, -8.84477506e-05,\n",
       "       -1.17082680e-03, -4.94862181e-09,  5.13887841e-06, -7.20231307e-06,\n",
       "       -7.41530474e-07,  8.75256286e-09, -6.55026075e-08, -3.49328558e-10,\n",
       "       -1.35227470e-07,  2.79546160e-06, -7.16640585e-09,  9.67426960e-09,\n",
       "       -1.03788328e-04,  3.20478400e-11, -8.29881111e-08, -4.43646010e-09,\n",
       "        2.50647421e-03, -1.62107142e-04, -2.11274855e-09, -1.89170753e-05,\n",
       "       -8.57035495e-05, -1.79863164e-09,  3.21916262e-05, -6.97104406e-06,\n",
       "       -9.78903891e-10, -7.56244336e-05, -1.09662333e-08, -2.83683786e-03,\n",
       "        1.47801079e-08, -3.42251450e-07,  2.10566439e-05,  3.76855632e-11,\n",
       "       -3.34279141e-07, -1.44828969e-07,  1.92007318e-08, -3.95547340e-03,\n",
       "       -4.05268176e-03,  1.54127616e-03,  4.67927780e-04, -2.25304886e-04,\n",
       "        1.47497314e-04, -5.90437221e-03,  7.25882808e-05,  9.78345644e-04,\n",
       "        3.12764703e-04,  4.19848519e-04,  4.08481532e-05, -2.30884367e-03,\n",
       "       -2.57263130e-05,  5.85351639e-05, -1.62800371e-03, -6.05756646e-05,\n",
       "       -1.27180904e-04, -4.66282168e-04,  9.12651874e-05,  9.40463283e-04,\n",
       "        2.41396183e-03,  4.42567466e-04, -2.22065077e-04, -2.18258157e-06,\n",
       "        2.24054612e-04,  2.58146731e-05,  1.74983908e-04,  2.04918756e-03,\n",
       "       -4.75769829e-03,  1.13322699e-03,  1.55777797e-03,  1.66358721e-03,\n",
       "       -1.19166769e-03, -1.17978466e-02,  3.38510025e-03,  1.58607728e-03,\n",
       "        2.38533490e-03,  4.52065643e-03, -1.11142959e-03, -1.55747418e-03,\n",
       "       -3.11398708e-04,  2.24337902e-04,  4.86539848e-04, -5.82925273e-07,\n",
       "        2.20168823e-05,  4.40912660e-04, -5.31020964e-04,  1.76151985e-03,\n",
       "        2.66976452e-03,  6.63031561e-04, -5.79399965e-05, -2.30574523e-04,\n",
       "        8.18209151e-05, -1.03499246e-04, -1.24043048e-04,  2.11885111e-03,\n",
       "        4.14919277e-04,  3.44649917e-04, -1.18368170e-04,  1.21653485e-04,\n",
       "       -5.83877168e-03,  4.82230590e-04,  7.62113012e-04,  9.60937115e-04,\n",
       "       -1.09445573e-04, -9.43530328e-05, -2.13481939e-03,  2.51125419e-06,\n",
       "        1.11444835e-04, -3.63386139e-04,  1.06275211e-05, -2.09604226e-04,\n",
       "       -4.15981950e-03,  1.09280153e-04,  8.20236470e-04,  1.59626304e-03,\n",
       "        6.96264936e-04, -4.09868222e-04, -2.83719130e-05,  3.34401466e-04,\n",
       "        4.85467126e-05,  1.37754738e-04,  1.46943596e-03, -1.44266006e-04,\n",
       "       -1.50131567e-03,  1.60707310e-04, -5.42730689e-03, -1.45334123e-03,\n",
       "        2.54614724e-03,  1.79700582e-03,  6.07084824e-03, -1.31984237e-04,\n",
       "       -2.37527381e-03, -1.61973910e-04, -1.37662039e-04,  1.19072803e-03,\n",
       "       -3.18375636e-04,  3.38870723e-04,  4.73096517e-03,  1.24134800e-04,\n",
       "        1.62933772e-03,  3.79441798e-03,  4.80433463e-04, -7.23069114e-05,\n",
       "       -3.81044552e-05, -4.02053857e-04,  3.26345824e-04, -1.93832385e-04,\n",
       "        3.28062683e-03,  1.80257954e-03, -1.45263161e-03,  1.06720666e-03,\n",
       "       -1.79810583e-03,  4.72343326e-04,  1.17352619e-03,  1.18343527e-04,\n",
       "        6.56125056e-03, -5.21901730e-04, -3.77576064e-04,  1.07595321e-04,\n",
       "        9.72518678e-04, -3.55161170e-04, -6.44274436e-06,  4.45255532e-04,\n",
       "       -2.87783112e-04, -3.52400126e-05, -6.70996823e-04,  1.50639473e-03,\n",
       "        1.24469088e-04,  2.82824812e-05,  8.01618039e-04,  9.62008390e-06,\n",
       "       -2.45455375e-04,  4.57949609e-04, -6.96081937e-04,  9.40213882e-04,\n",
       "       -2.94900733e-04, -6.29019131e-04,  5.09317449e-04, -9.68708353e-04,\n",
       "        3.41889377e-03, -1.26343124e-03, -1.91846542e-05,  2.03774624e-04,\n",
       "       -4.47492734e-04,  2.08135142e-04,  2.81178105e-06, -7.63172484e-04,\n",
       "       -3.42067932e-04, -4.26933001e-04, -6.66961731e-04, -7.91486552e-05,\n",
       "        1.84634890e-04, -6.12970172e-06,  7.22577327e-05, -5.37426086e-05,\n",
       "        8.51015958e-05, -3.53103065e-04, -4.81943173e-04,  6.97900299e-04,\n",
       "       -6.18170545e-04, -8.46102484e-04, -2.92177584e-04, -3.86532271e-03,\n",
       "        8.54080441e-04,  2.26892659e-04,  1.99083286e-04, -2.75362827e-04,\n",
       "        1.50186331e-04, -4.93389711e-04, -6.38201359e-05,  4.98970708e-04,\n",
       "       -2.94300108e-04, -9.69177854e-04, -3.21337077e-04,  3.70027144e-05,\n",
       "       -2.32728423e-04,  1.11892516e-04, -9.93670002e-05,  1.03519907e-04,\n",
       "       -8.62975803e-04, -1.35635654e-03, -3.88330926e-03, -3.97551344e-03,\n",
       "       -6.16739783e-03,  1.27918164e-03, -9.10701442e-04,  7.96260120e-05,\n",
       "       -2.96673278e-04, -5.42139597e-03,  4.93487238e-05,  1.27876350e-04,\n",
       "       -8.64252044e-03,  3.31762399e-04, -2.78933677e-03, -3.77489189e-03,\n",
       "        4.43015870e-05,  1.25038516e-04,  4.39999449e-05, -3.89389239e-04,\n",
       "       -1.60699045e-04, -7.61819476e-05, -3.15574185e-03, -1.28624033e-03,\n",
       "       -1.94958986e-04, -2.16362053e-03, -2.23234120e-03, -4.14924464e-04,\n",
       "       -4.66549158e-04,  2.26825859e-05, -1.23162890e-03, -5.41755739e-04,\n",
       "        3.02477238e-05, -1.06390167e-03,  3.09649849e-04, -1.09698003e-03,\n",
       "       -1.34170909e-03, -9.68878463e-04,  2.96129035e-05, -2.99029894e-04,\n",
       "        3.95488660e-04, -1.01738550e-04,  5.40934110e-04, -1.14635721e-03,\n",
       "        9.70515166e-04,  1.39844517e-03,  1.95001164e-04, -1.77598881e-03,\n",
       "       -1.52907505e-04,  8.27622411e-05,  5.46970902e-04, -8.65490546e-05,\n",
       "       -2.45265933e-05,  9.92478307e-04,  1.63015245e-04,  1.74147454e-04,\n",
       "        2.24281198e-03, -3.10848875e-04, -2.03017040e-05,  4.06777452e-05,\n",
       "        3.78926120e-04, -1.32254795e-05,  1.23544407e-04,  2.04393146e-03,\n",
       "        1.32015100e-03, -1.64033523e-06, -6.67096454e-03, -1.18125676e-04,\n",
       "        1.55444798e-04,  3.59431625e-03, -2.23588015e-05,  1.50188039e-04,\n",
       "        5.04020271e-04, -2.36040686e-05,  3.92389289e-04,  3.16021323e-03,\n",
       "       -7.07230069e-04,  3.45322045e-04, -1.75604550e-04, -4.93399647e-04,\n",
       "       -1.89808407e-04, -2.83813696e-04,  1.86109407e-03,  1.78267274e-03,\n",
       "       -2.09036813e-03, -5.63367691e-05,  3.43094738e-05,  4.66304033e-04,\n",
       "       -5.90291274e-04,  2.61664241e-04,  7.36410703e-03,  3.27214087e-04,\n",
       "        8.43185132e-04,  2.71053670e-03, -5.67265610e-04,  7.35444036e-05,\n",
       "        9.03901185e-05, -7.77379314e-04,  5.02696642e-05, -3.13692673e-04,\n",
       "        2.02369423e-03, -2.99525727e-04, -9.46896900e-05, -2.80523594e-04,\n",
       "        1.20495124e-04, -7.45276091e-05,  2.03847447e-04, -3.79873756e-04,\n",
       "       -1.78582736e-04, -5.10892663e-04,  2.26733442e-04,  4.96505207e-04,\n",
       "       -1.29121244e-04, -4.88637518e-04, -3.58211072e-04, -1.12259918e-05,\n",
       "       -3.46147831e-05,  2.71533427e-04,  1.38309893e-04, -1.71020064e-04,\n",
       "       -2.59744041e-03, -1.75324129e-04, -3.20506215e-04, -1.88482874e-03,\n",
       "       -1.13322115e-04, -1.58072153e-03, -3.23101307e-03, -1.11279126e-03,\n",
       "       -5.97821863e-04,  1.95336524e-04, -1.61292992e-04,  1.54744111e-04,\n",
       "        3.42690386e-04, -2.56284087e-03, -1.53458157e-04, -1.51741700e-04,\n",
       "        4.53254418e-03,  1.97534414e-04, -2.58318418e-04,  2.54826129e-04,\n",
       "       -1.04828389e-04, -2.06592021e-04, -1.98522955e-04, -1.91809586e-03,\n",
       "        1.88457559e-04,  9.24612758e-05,  1.73676495e-03, -1.17304538e-04,\n",
       "       -1.77963302e-04,  2.44620432e-04,  1.57415228e-04, -4.87783806e-03,\n",
       "        1.80676307e-04,  6.11291497e-05,  1.23961612e-04,  9.21898151e-05,\n",
       "        9.23423198e-05, -5.01855302e-05, -1.23473967e-03,  8.48835271e-06,\n",
       "        6.12504139e-05, -3.10791373e-04,  8.17149459e-05,  8.54897140e-06,\n",
       "       -1.00355982e-04, -1.67767479e-03, -2.31810873e-04, -9.35200210e-05,\n",
       "        1.02982078e-03, -4.83404072e-04, -1.13463504e-04,  1.22466564e-05,\n",
       "       -8.73090427e-04,  1.20680276e-04,  1.60041499e-04,  5.04886854e-04,\n",
       "        1.14806506e-04,  2.10129612e-05,  3.46797150e-06, -1.51827639e-04,\n",
       "       -3.87277816e-04,  2.61851330e-04, -1.47183930e-03,  4.78227438e-05,\n",
       "        1.14345967e-04,  9.89469915e-04, -1.85463166e-04, -6.40327958e-05,\n",
       "        3.54586885e-04,  6.18899576e-03, -6.43346711e-05,  4.53385691e-05,\n",
       "        2.05785912e-04, -1.99556109e-04, -3.85254923e-03, -2.35860265e-04,\n",
       "       -2.01389200e-04, -8.30148926e-04,  6.68873905e-05,  8.45594461e-05,\n",
       "        3.07936346e-04,  2.74450235e-03, -5.68312970e-05,  1.83719756e-04,\n",
       "        8.45429383e-05, -7.00690923e-04, -1.76355260e-04, -4.56827130e-05,\n",
       "        1.98015523e-03, -6.63810251e-05,  5.17870320e-04, -1.78786476e-04,\n",
       "        5.62924746e-05, -3.56811570e-03, -2.02028346e-04, -2.61493571e-04,\n",
       "       -6.80768062e-04,  2.70535965e-04,  3.63593364e-04, -7.74328682e-04,\n",
       "        2.72413875e-04,  4.32851312e-04,  9.55149999e-04, -5.67157866e-05,\n",
       "        1.26394067e-04,  5.87910990e-04, -1.63654594e-03,  2.08314749e-04,\n",
       "       -1.22655787e-04,  4.45742759e-04,  6.94613336e-05,  6.69588963e-05,\n",
       "        3.15432302e-03,  1.39700829e-04,  2.43297230e-04,  3.46789898e-04,\n",
       "       -1.98264569e-04, -6.78347563e-05, -3.81679797e-06,  1.46932936e-04,\n",
       "       -2.48980784e-04, -2.40897688e-03, -3.59012159e-04,  1.38204069e-04,\n",
       "       -2.54917680e-04,  3.62972946e-04,  1.06695432e-03,  6.25127541e-07,\n",
       "       -1.48980662e-04,  2.51315942e-04,  6.80778109e-04,  2.40576613e-04,\n",
       "       -7.81506335e-05,  3.14990654e-05, -2.24655611e-03])"
      ]
     },
     "execution_count": 20,
     "metadata": {},
     "output_type": "execute_result"
    }
   ],
   "source": [
    "w_opt"
   ]
  }
 ],
 "metadata": {
  "kernelspec": {
   "display_name": "ML-project1",
   "language": "python",
   "name": "ml-project1"
  },
  "language_info": {
   "codemirror_mode": {
    "name": "ipython",
    "version": 3
   },
   "file_extension": ".py",
   "mimetype": "text/x-python",
   "name": "python",
   "nbconvert_exporter": "python",
   "pygments_lexer": "ipython3",
   "version": "3.7.5"
  },
  "toc": {
   "base_numbering": 1,
   "nav_menu": {},
   "number_sections": true,
   "sideBar": true,
   "skip_h1_title": false,
   "title_cell": "Table of Contents",
   "title_sidebar": "Contents",
   "toc_cell": false,
   "toc_position": {},
   "toc_section_display": true,
   "toc_window_display": false
  }
 },
 "nbformat": 4,
 "nbformat_minor": 2
}
