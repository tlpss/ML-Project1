{
 "cells": [
  {
   "cell_type": "code",
   "execution_count": 1,
   "metadata": {},
   "outputs": [],
   "source": [
    "import numpy as np\n",
    "from helpers import *\n",
    "from implementations import *\n",
    "from preprocessing import *"
   ]
  },
  {
   "cell_type": "code",
   "execution_count": 2,
   "metadata": {},
   "outputs": [],
   "source": [
    "Seed = 42"
   ]
  },
  {
   "cell_type": "markdown",
   "metadata": {},
   "source": [
    "## Load the Data"
   ]
  },
  {
   "cell_type": "code",
   "execution_count": 3,
   "metadata": {},
   "outputs": [],
   "source": [
    "p = Preprocessing(load_csv('dataset/trainset.csv'))\n",
    "y , xt = p.preprocess()"
   ]
  },
  {
   "cell_type": "code",
   "execution_count": null,
   "metadata": {},
   "outputs": [],
   "source": [
    "print(y)"
   ]
  },
  {
   "cell_type": "markdown",
   "metadata": {},
   "source": [
    "## Basic Split"
   ]
  },
  {
   "cell_type": "code",
   "execution_count": 4,
   "metadata": {},
   "outputs": [],
   "source": [
    "x_test , x_train ,y_test , y_train = basic_split_data(xt, y, 0.8, Seed)"
   ]
  },
  {
   "cell_type": "markdown",
   "metadata": {},
   "source": [
    "## Logistic predictions from weights"
   ]
  },
  {
   "cell_type": "code",
   "execution_count": 5,
   "metadata": {},
   "outputs": [],
   "source": [
    "def predict(weight, x_test):\n",
    "    \"\"\"\n",
    "    # Gives predictions given weight and datapoints \n",
    "    \n",
    "    :param weight: vector weight\n",
    "    :type weight: 1D array\n",
    "    \n",
    "    :param x_test: extended feature matrix\n",
    "    :type x_test: 2D array\n",
    "    \n",
    "    :return: label predictions (0 or 1)\n",
    "    :rtype:  1D numpy array\n",
    "    \n",
    "    \"\"\"\n",
    "    \n",
    "    pred = calculate_sigmoid(weight, x_test.T)\n",
    "    \n",
    "    f = lambda x : 0 if x <0.5 else 1\n",
    "    \n",
    "    predictions = np.array([ f(x) for x in pred])\n",
    "    \n",
    "    return predictions"
   ]
  },
  {
   "cell_type": "markdown",
   "metadata": {},
   "source": [
    "## Cross Validation, Calculation of the Accuracy "
   ]
  },
  {
   "cell_type": "code",
   "execution_count": 6,
   "metadata": {},
   "outputs": [],
   "source": [
    "def K_Cross_Validation(xt_training, y_training, K, initial_w, max_iters, _lambda, gamma, batch_size):\n",
    "    \"\"\"\n",
    "    #K_Cross_Validation training technique\n",
    "    \n",
    "    :param xt_training: extended feature matrix \n",
    "    :type xt: numpy 2D array\n",
    "    \n",
    "    :param y_training: labels\n",
    "    :type y_training: 1D array\n",
    "    \n",
    "    :param K: number of folds\n",
    "    :type K: int\n",
    "    \n",
    "    :param initial_w: initial value of weights\n",
    "    :type initial_w: numpy 1D array\n",
    "    \n",
    "    :param max_iters: the number of maximal iterations\n",
    "    :type max_iters: int\n",
    "    \n",
    "    :param _lambda: regularizer\n",
    "    :type _lambda: float64\n",
    "    \n",
    "    :param gamma: learning rate\n",
    "    :type gamma: float64\n",
    "    \n",
    "    :param batch_size: size of the batch for batch_reg_logistic_regression\n",
    "    :type batch_size: int\n",
    "    \n",
    "    :return: accuracy, validation_weights, accuracy_mean, weights_mean\n",
    "    :rtype:  1D numpy array,  (K,xt_training.shape[1])numpy array,  float64, 1D numpy array\n",
    "    \n",
    "    \"\"\"\n",
    "\n",
    "    #Initialization of all needed arrays\n",
    "    validation_loss = np.zeros(K)\n",
    "    validation_weights = np.zeros((K,xt_training.shape[1]))\n",
    "    accuracy = np.zeros(K)\n",
    "    indices = np.linspace(0, len(y_training)-1 , K+1 ,dtype=int)\n",
    "    \n",
    "    for i in range(K):\n",
    "        #Split de data \n",
    "        x_cross_test = xt_training[indices[i] : indices[i+1], :]\n",
    "        y_cross_test = y_training[indices[i] : indices[i+1]]\n",
    "        x_cross_train = np.concatenate((xt_training[:indices[i], :], xt_training[indices[i]:, :]),axis=0)\n",
    "        y_cross_train = np.concatenate((y_training[:indices[i]], y_training[indices[i]:]),axis=0)\n",
    "        \n",
    "        #Run Reg_Logistric_Regression on the obtained datasets\n",
    "        validation_weights[i], validation_loss[i] = reg_batch_logistic_regression(y_cross_train, x_cross_train, _lambda, initial_w, max_iters, gamma, batch_size)\n",
    "        #Calculate predictions of the model\n",
    "        predictions = predict(validation_weights[i] , x_cross_test)\n",
    "        #Calculate accuracy of the model\n",
    "        accuracy[i] = np.sum(predictions == y_cross_test) / len(y_cross_test)\n",
    "        \n",
    "    return accuracy, validation_weights, np.mean(accuracy), np.mean(validation_weights, axis=0)\n",
    "        "
   ]
  },
  {
   "cell_type": "code",
   "execution_count": 7,
   "metadata": {},
   "outputs": [
    {
     "data": {
      "text/plain": [
       "0.7074483343828326"
      ]
     },
     "execution_count": 7,
     "metadata": {},
     "output_type": "execute_result"
    }
   ],
   "source": [
    "acc, weights, mean_acc, mean_weights= K_Cross_Validation(x_train, y_train, 20, np.zeros(xt.shape[1]), 20, 0.1, 0.2, 20)\n",
    "mean_acc\n"
   ]
  },
  {
   "cell_type": "markdown",
   "metadata": {},
   "source": [
    "## Test of the model with the mean of weights obtained with Cross Validation"
   ]
  },
  {
   "cell_type": "code",
   "execution_count": 9,
   "metadata": {},
   "outputs": [
    {
     "data": {
      "text/plain": [
       "0.7069333333333333"
      ]
     },
     "execution_count": 9,
     "metadata": {},
     "output_type": "execute_result"
    }
   ],
   "source": [
    "def Accuracy_On_Test_Set(w, x_test, y_test):     \n",
    "    #Test the trained model on test set\n",
    "    predictions = predict(w , x_test)\n",
    "    accuracy = np.sum(predictions == y_test) / len(y_test)\n",
    "    \n",
    "    return accuracy\n",
    "\n",
    "Accuracy_On_Test_Set(mean_weights, x_test, y_test)"
   ]
  },
  {
   "cell_type": "markdown",
   "metadata": {},
   "source": [
    "## Trying to tune the lambda parameter (regularizer)"
   ]
  },
  {
   "cell_type": "code",
   "execution_count": 20,
   "metadata": {},
   "outputs": [],
   "source": [
    "def Tune_Lambda(xt_training, y_training, K, lambda_range, initial_w, max_iters, gamma, batch_size):\n",
    "        \n",
    "    lambdas = np.linspace(0, lambda_range, 10)\n",
    "    max_acc = 0\n",
    "    opt_lambda = 0\n",
    "    \n",
    "    for i, lam in enumerate(lambdas):\n",
    "       \n",
    "        accuracy = K_Cross_Validation(xt_training, y_training, K, initial_w, max_iters, lam, gamma, batch_size)[2]\n",
    "        \n",
    "        if (accuracy > max_acc):\n",
    "            max_acc = accuracy\n",
    "            opt_lambda = lam\n",
    "                \n",
    "    return opt_lambda , max_acc\n",
    "    "
   ]
  },
  {
   "cell_type": "code",
   "execution_count": 22,
   "metadata": {},
   "outputs": [
    {
     "name": "stderr",
     "output_type": "stream",
     "text": [
      "/Users/Clement/ML-Project1/helpers/implementation_helpers.py:86: RuntimeWarning: overflow encountered in exp\n",
      "  return 1/(1 + np.exp(-inner_product))\n"
     ]
    },
    {
     "data": {
      "text/plain": [
       "(0.0, 0.7171207099888577)"
      ]
     },
     "execution_count": 22,
     "metadata": {},
     "output_type": "execute_result"
    }
   ],
   "source": [
    "Tune_Lambda(xt_training=x_train, y_training=y_train, K= 5, lambda_range=100, initial_w=np.zeros(xt.shape[1]), max_iters= 30, gamma=0.4, batch_size=20)\n"
   ]
  },
  {
   "cell_type": "code",
   "execution_count": null,
   "metadata": {},
   "outputs": [],
   "source": []
  }
 ],
 "metadata": {
  "kernelspec": {
   "display_name": "Python 3",
   "language": "python",
   "name": "python3"
  },
  "language_info": {
   "codemirror_mode": {
    "name": "ipython",
    "version": 3
   },
   "file_extension": ".py",
   "mimetype": "text/x-python",
   "name": "python",
   "nbconvert_exporter": "python",
   "pygments_lexer": "ipython3",
   "version": "3.7.9"
  }
 },
 "nbformat": 4,
 "nbformat_minor": 4
}
