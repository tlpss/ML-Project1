{
 "cells": [
  {
   "cell_type": "code",
   "execution_count": 4,
   "metadata": {
    "ExecuteTime": {
     "end_time": "2020-09-27T12:46:04.780773Z",
     "start_time": "2020-09-27T12:46:04.776785Z"
    }
   },
   "outputs": [],
   "source": [
    "from helpers import load_csv"
   ]
  },
  {
   "cell_type": "code",
   "execution_count": 12,
   "metadata": {
    "ExecuteTime": {
     "end_time": "2020-09-27T12:49:13.152560Z",
     "start_time": "2020-09-27T12:49:13.141592Z"
    }
   },
   "outputs": [
    {
     "name": "stdout",
     "output_type": "stream",
     "text": [
      "[('Id', '<i4'), ('Prediction', '<i4'), ('DER_mass_MMC', '<f8'), ('DER_mass_transverse_met_lep', '<f8'), ('DER_mass_vis', '<f8'), ('DER_pt_h', '<f8'), ('DER_deltaeta_jet_jet', '<f8'), ('DER_mass_jet_jet', '<f8'), ('DER_prodeta_jet_jet', '<f8'), ('DER_deltar_tau_lep', '<f8'), ('DER_pt_tot', '<f8'), ('DER_sum_pt', '<f8'), ('DER_pt_ratio_lep_tau', '<f8'), ('DER_met_phi_centrality', '<f8'), ('DER_lep_eta_centrality', '<f8'), ('PRI_tau_pt', '<f8'), ('PRI_tau_eta', '<f8'), ('PRI_tau_phi', '<f8'), ('PRI_lep_pt', '<f8'), ('PRI_lep_eta', '<f8'), ('PRI_lep_phi', '<f8'), ('PRI_met', '<f8'), ('PRI_met_phi', '<f8'), ('PRI_met_sumet', '<f8'), ('PRI_jet_num', '<i4'), ('PRI_jet_leading_pt', '<f8'), ('PRI_jet_leading_eta', '<f8'), ('PRI_jet_leading_phi', '<f8'), ('PRI_jet_subleading_pt', '<f8'), ('PRI_jet_subleading_eta', '<f8'), ('PRI_jet_subleading_phi', '<f8'), ('PRI_jet_all_pt', '<f8')]\n",
      "('Id', 'Prediction', 'DER_mass_MMC', 'DER_mass_transverse_met_lep', 'DER_mass_vis', 'DER_pt_h', 'DER_deltaeta_jet_jet', 'DER_mass_jet_jet', 'DER_prodeta_jet_jet', 'DER_deltar_tau_lep', 'DER_pt_tot', 'DER_sum_pt', 'DER_pt_ratio_lep_tau', 'DER_met_phi_centrality', 'DER_lep_eta_centrality', 'PRI_tau_pt', 'PRI_tau_eta', 'PRI_tau_phi', 'PRI_lep_pt', 'PRI_lep_eta', 'PRI_lep_phi', 'PRI_met', 'PRI_met_phi', 'PRI_met_sumet', 'PRI_jet_num', 'PRI_jet_leading_pt', 'PRI_jet_leading_eta', 'PRI_jet_leading_phi', 'PRI_jet_subleading_pt', 'PRI_jet_subleading_eta', 'PRI_jet_subleading_phi', 'PRI_jet_all_pt')\n"
     ]
    },
    {
     "ename": "TypeError",
     "evalue": "'numpy.dtype' object is not iterable",
     "output_type": "error",
     "traceback": [
      "\u001b[1;31m---------------------------------------------------------------------------\u001b[0m",
      "\u001b[1;31mTypeError\u001b[0m                                 Traceback (most recent call last)",
      "\u001b[1;32m<ipython-input-12-576b732e5906>\u001b[0m in \u001b[0;36m<module>\u001b[1;34m\u001b[0m\n\u001b[0;32m      2\u001b[0m \u001b[0mprint\u001b[0m\u001b[1;33m(\u001b[0m\u001b[0mdata\u001b[0m\u001b[1;33m.\u001b[0m\u001b[0mdtype\u001b[0m\u001b[1;33m)\u001b[0m\u001b[1;33m\u001b[0m\u001b[1;33m\u001b[0m\u001b[0m\n\u001b[0;32m      3\u001b[0m \u001b[0mprint\u001b[0m\u001b[1;33m(\u001b[0m\u001b[0mdata\u001b[0m\u001b[1;33m.\u001b[0m\u001b[0mdtype\u001b[0m\u001b[1;33m.\u001b[0m\u001b[0mnames\u001b[0m\u001b[1;33m)\u001b[0m\u001b[1;33m\u001b[0m\u001b[1;33m\u001b[0m\u001b[0m\n\u001b[1;32m----> 4\u001b[1;33m \u001b[1;32mfor\u001b[0m \u001b[0mname\u001b[0m\u001b[1;33m,\u001b[0m\u001b[0mt\u001b[0m \u001b[1;32min\u001b[0m \u001b[0mdata\u001b[0m\u001b[1;33m.\u001b[0m\u001b[0mdtype\u001b[0m\u001b[1;33m:\u001b[0m\u001b[1;33m\u001b[0m\u001b[1;33m\u001b[0m\u001b[0m\n\u001b[0m\u001b[0;32m      5\u001b[0m     \u001b[0mprint\u001b[0m\u001b[1;33m(\u001b[0m\u001b[0mt\u001b[0m\u001b[1;33m[\u001b[0m\u001b[1;36m0\u001b[0m\u001b[1;33m]\u001b[0m\u001b[1;33m)\u001b[0m\u001b[1;33m\u001b[0m\u001b[1;33m\u001b[0m\u001b[0m\n",
      "\u001b[1;31mTypeError\u001b[0m: 'numpy.dtype' object is not iterable"
     ]
    }
   ],
   "source": [
    "data = load_csv(\"test/dummy_data.csv\")\n",
    "print(data.dtype)\n",
    "print(data.dtype.names)\n",
    "for name,t in data.dtype:\n",
    "    print(t[0])"
   ]
  },
  {
   "cell_type": "code",
   "execution_count": 21,
   "metadata": {
    "ExecuteTime": {
     "end_time": "2020-09-27T12:51:45.765153Z",
     "start_time": "2020-09-27T12:51:45.759169Z"
    }
   },
   "outputs": [
    {
     "name": "stdout",
     "output_type": "stream",
     "text": [
      "Id,Prediction,DER_mass_MMC,DER_mass_transverse_met_lep,DER_mass_vis,DER_pt_h,DER_deltaeta_jet_jet,DER_mass_jet_jet,DER_prodeta_jet_jet,DER_deltar_tau_lep,DER_pt_tot,DER_sum_pt,DER_pt_ratio_lep_tau,DER_met_phi_centrality,DER_lep_eta_centrality,PRI_tau_pt,PRI_tau_eta,PRI_tau_phi,PRI_lep_pt,PRI_lep_eta,PRI_lep_phi,PRI_met,PRI_met_phi,PRI_met_sumet,PRI_jet_num,PRI_jet_leading_pt,PRI_jet_leading_eta,PRI_jet_leading_phi,PRI_jet_subleading_pt,PRI_jet_subleading_eta,PRI_jet_subleading_phi,PRI_jet_all_pt\n"
     ]
    }
   ],
   "source": [
    "header = ','.join(data.dtype.names)\n",
    "\n",
    "\n",
    "print(header)\n",
    "np.savetxt('struct_array.csv', data, delimiter=',')"
   ]
  },
  {
   "cell_type": "code",
   "execution_count": 42,
   "metadata": {
    "ExecuteTime": {
     "end_time": "2020-09-27T13:03:13.703465Z",
     "start_time": "2020-09-27T13:03:13.697512Z"
    }
   },
   "outputs": [
    {
     "name": "stdout",
     "output_type": "stream",
     "text": [
      "['%d', '%d', '%3.3f', '%3.3f', '%3.3f', '%3.3f', '%3.3f', '%3.3f', '%3.3f', '%3.3f', '%3.3f', '%3.3f', '%3.3f', '%3.3f', '%3.3f', '%3.3f', '%3.3f', '%3.3f', '%3.3f', '%3.3f', '%3.3f', '%3.3f', '%3.3f', '%3.3f', '%d', '%3.3f', '%3.3f', '%3.3f', '%3.3f', '%3.3f', '%3.3f', '%3.3f']\n"
     ]
    }
   ],
   "source": [
    "fmt = []\n",
    "for name in data.dtype.names:\n",
    "    t = str(data.dtype[name])[0]\n",
    "    if t is \"i\":\n",
    "        fmt.append(\"%d\")\n",
    "    if t is \"f\":\n",
    "        fmt.append(\"%3.3f\")\n",
    "print(fmt)\n"
   ]
  },
  {
   "cell_type": "code",
   "execution_count": 43,
   "metadata": {
    "ExecuteTime": {
     "end_time": "2020-09-27T13:03:15.873607Z",
     "start_time": "2020-09-27T13:03:15.868620Z"
    }
   },
   "outputs": [],
   "source": [
    "np.savetxt('struct_array.csv', data, delimiter=',', header=header, fmt=fmt)"
   ]
  }
 ],
 "metadata": {
  "kernelspec": {
   "display_name": "Python 3",
   "language": "python",
   "name": "python3"
  },
  "language_info": {
   "codemirror_mode": {
    "name": "ipython",
    "version": 3
   },
   "file_extension": ".py",
   "mimetype": "text/x-python",
   "name": "python",
   "nbconvert_exporter": "python",
   "pygments_lexer": "ipython3",
   "version": "3.7.5"
  },
  "toc": {
   "base_numbering": 1,
   "nav_menu": {},
   "number_sections": true,
   "sideBar": true,
   "skip_h1_title": false,
   "title_cell": "Table of Contents",
   "title_sidebar": "Contents",
   "toc_cell": false,
   "toc_position": {},
   "toc_section_display": true,
   "toc_window_display": false
  }
 },
 "nbformat": 4,
 "nbformat_minor": 2
}
